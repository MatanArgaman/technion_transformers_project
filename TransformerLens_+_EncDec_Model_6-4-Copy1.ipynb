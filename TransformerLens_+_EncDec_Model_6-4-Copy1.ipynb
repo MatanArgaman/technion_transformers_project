{
 "cells": [
  {
   "cell_type": "code",
   "execution_count": 1,
   "metadata": {
    "colab": {
     "base_uri": "https://localhost:8080/"
    },
    "id": "HnZHduw88_ZN",
    "outputId": "c8b5a208-39a9-41a1-b8b2-83767f0f84c6",
    "scrolled": true
   },
   "outputs": [
    {
     "name": "stdout",
     "output_type": "stream",
     "text": [
      "Requirement already satisfied: transformer_lens in /home/matanlevy/miniconda3/envs/myenv/lib/python3.10/site-packages (2.15.4)\n",
      "Requirement already satisfied: accelerate>=0.23.0 in /home/matanlevy/miniconda3/envs/myenv/lib/python3.10/site-packages (from transformer_lens) (1.7.0)\n",
      "Requirement already satisfied: beartype<0.15.0,>=0.14.1 in /home/matanlevy/miniconda3/envs/myenv/lib/python3.10/site-packages (from transformer_lens) (0.14.1)\n",
      "Requirement already satisfied: better-abc<0.0.4,>=0.0.3 in /home/matanlevy/miniconda3/envs/myenv/lib/python3.10/site-packages (from transformer_lens) (0.0.3)\n",
      "Requirement already satisfied: datasets>=2.7.1 in /home/matanlevy/miniconda3/envs/myenv/lib/python3.10/site-packages (from transformer_lens) (3.6.0)\n",
      "Requirement already satisfied: einops>=0.6.0 in /home/matanlevy/miniconda3/envs/myenv/lib/python3.10/site-packages (from transformer_lens) (0.8.1)\n",
      "Requirement already satisfied: fancy-einsum>=0.0.3 in /home/matanlevy/miniconda3/envs/myenv/lib/python3.10/site-packages (from transformer_lens) (0.0.3)\n",
      "Requirement already satisfied: jaxtyping>=0.2.11 in /home/matanlevy/miniconda3/envs/myenv/lib/python3.10/site-packages (from transformer_lens) (0.3.2)\n",
      "Requirement already satisfied: numpy>=1.24 in /home/matanlevy/miniconda3/envs/myenv/lib/python3.10/site-packages (from transformer_lens) (2.0.1)\n",
      "Requirement already satisfied: pandas>=1.1.5 in /home/matanlevy/miniconda3/envs/myenv/lib/python3.10/site-packages (from transformer_lens) (2.2.3)\n",
      "Requirement already satisfied: rich>=12.6.0 in /home/matanlevy/miniconda3/envs/myenv/lib/python3.10/site-packages (from transformer_lens) (14.0.0)\n",
      "Requirement already satisfied: sentencepiece in /home/matanlevy/miniconda3/envs/myenv/lib/python3.10/site-packages (from transformer_lens) (0.2.0)\n",
      "Requirement already satisfied: torch>=2.2 in /home/matanlevy/miniconda3/envs/myenv/lib/python3.10/site-packages (from transformer_lens) (2.7.1)\n",
      "Requirement already satisfied: tqdm>=4.64.1 in /home/matanlevy/miniconda3/envs/myenv/lib/python3.10/site-packages (from transformer_lens) (4.67.1)\n",
      "Requirement already satisfied: transformers>=4.43 in /home/matanlevy/miniconda3/envs/myenv/lib/python3.10/site-packages (from transformer_lens) (4.52.4)\n",
      "Requirement already satisfied: transformers-stream-generator<0.0.6,>=0.0.5 in /home/matanlevy/miniconda3/envs/myenv/lib/python3.10/site-packages (from transformer_lens) (0.0.5)\n",
      "Requirement already satisfied: typeguard<5.0,>=4.2 in /home/matanlevy/miniconda3/envs/myenv/lib/python3.10/site-packages (from transformer_lens) (4.4.3)\n",
      "Requirement already satisfied: typing-extensions in /home/matanlevy/miniconda3/envs/myenv/lib/python3.10/site-packages (from transformer_lens) (4.14.0)\n",
      "Requirement already satisfied: wandb>=0.13.5 in /home/matanlevy/miniconda3/envs/myenv/lib/python3.10/site-packages (from transformer_lens) (0.20.1)\n",
      "Requirement already satisfied: packaging>=20.0 in /home/matanlevy/miniconda3/envs/myenv/lib/python3.10/site-packages (from accelerate>=0.23.0->transformer_lens) (24.2)\n",
      "Requirement already satisfied: psutil in /home/matanlevy/miniconda3/envs/myenv/lib/python3.10/site-packages (from accelerate>=0.23.0->transformer_lens) (5.9.0)\n",
      "Requirement already satisfied: pyyaml in /home/matanlevy/miniconda3/envs/myenv/lib/python3.10/site-packages (from accelerate>=0.23.0->transformer_lens) (6.0.2)\n",
      "Requirement already satisfied: huggingface-hub>=0.21.0 in /home/matanlevy/miniconda3/envs/myenv/lib/python3.10/site-packages (from accelerate>=0.23.0->transformer_lens) (0.32.4)\n",
      "Requirement already satisfied: safetensors>=0.4.3 in /home/matanlevy/miniconda3/envs/myenv/lib/python3.10/site-packages (from accelerate>=0.23.0->transformer_lens) (0.5.3)\n",
      "Requirement already satisfied: filelock in /home/matanlevy/miniconda3/envs/myenv/lib/python3.10/site-packages (from datasets>=2.7.1->transformer_lens) (3.18.0)\n",
      "Requirement already satisfied: pyarrow>=15.0.0 in /home/matanlevy/miniconda3/envs/myenv/lib/python3.10/site-packages (from datasets>=2.7.1->transformer_lens) (20.0.0)\n",
      "Requirement already satisfied: dill<0.3.9,>=0.3.0 in /home/matanlevy/miniconda3/envs/myenv/lib/python3.10/site-packages (from datasets>=2.7.1->transformer_lens) (0.3.8)\n",
      "Requirement already satisfied: requests>=2.32.2 in /home/matanlevy/miniconda3/envs/myenv/lib/python3.10/site-packages (from datasets>=2.7.1->transformer_lens) (2.32.3)\n",
      "Requirement already satisfied: xxhash in /home/matanlevy/miniconda3/envs/myenv/lib/python3.10/site-packages (from datasets>=2.7.1->transformer_lens) (3.5.0)\n",
      "Requirement already satisfied: multiprocess<0.70.17 in /home/matanlevy/miniconda3/envs/myenv/lib/python3.10/site-packages (from datasets>=2.7.1->transformer_lens) (0.70.16)\n",
      "Requirement already satisfied: fsspec<=2025.3.0,>=2023.1.0 in /home/matanlevy/miniconda3/envs/myenv/lib/python3.10/site-packages (from fsspec[http]<=2025.3.0,>=2023.1.0->datasets>=2.7.1->transformer_lens) (2025.3.0)\n",
      "Requirement already satisfied: aiohttp!=4.0.0a0,!=4.0.0a1 in /home/matanlevy/miniconda3/envs/myenv/lib/python3.10/site-packages (from fsspec[http]<=2025.3.0,>=2023.1.0->datasets>=2.7.1->transformer_lens) (3.12.11)\n",
      "Requirement already satisfied: aiohappyeyeballs>=2.5.0 in /home/matanlevy/miniconda3/envs/myenv/lib/python3.10/site-packages (from aiohttp!=4.0.0a0,!=4.0.0a1->fsspec[http]<=2025.3.0,>=2023.1.0->datasets>=2.7.1->transformer_lens) (2.6.1)\n",
      "Requirement already satisfied: aiosignal>=1.1.2 in /home/matanlevy/miniconda3/envs/myenv/lib/python3.10/site-packages (from aiohttp!=4.0.0a0,!=4.0.0a1->fsspec[http]<=2025.3.0,>=2023.1.0->datasets>=2.7.1->transformer_lens) (1.3.2)\n",
      "Requirement already satisfied: async-timeout<6.0,>=4.0 in /home/matanlevy/miniconda3/envs/myenv/lib/python3.10/site-packages (from aiohttp!=4.0.0a0,!=4.0.0a1->fsspec[http]<=2025.3.0,>=2023.1.0->datasets>=2.7.1->transformer_lens) (5.0.1)\n",
      "Requirement already satisfied: attrs>=17.3.0 in /home/matanlevy/miniconda3/envs/myenv/lib/python3.10/site-packages (from aiohttp!=4.0.0a0,!=4.0.0a1->fsspec[http]<=2025.3.0,>=2023.1.0->datasets>=2.7.1->transformer_lens) (24.3.0)\n",
      "Requirement already satisfied: frozenlist>=1.1.1 in /home/matanlevy/miniconda3/envs/myenv/lib/python3.10/site-packages (from aiohttp!=4.0.0a0,!=4.0.0a1->fsspec[http]<=2025.3.0,>=2023.1.0->datasets>=2.7.1->transformer_lens) (1.6.2)\n",
      "Requirement already satisfied: multidict<7.0,>=4.5 in /home/matanlevy/miniconda3/envs/myenv/lib/python3.10/site-packages (from aiohttp!=4.0.0a0,!=4.0.0a1->fsspec[http]<=2025.3.0,>=2023.1.0->datasets>=2.7.1->transformer_lens) (6.4.4)\n",
      "Requirement already satisfied: propcache>=0.2.0 in /home/matanlevy/miniconda3/envs/myenv/lib/python3.10/site-packages (from aiohttp!=4.0.0a0,!=4.0.0a1->fsspec[http]<=2025.3.0,>=2023.1.0->datasets>=2.7.1->transformer_lens) (0.3.1)\n",
      "Requirement already satisfied: yarl<2.0,>=1.17.0 in /home/matanlevy/miniconda3/envs/myenv/lib/python3.10/site-packages (from aiohttp!=4.0.0a0,!=4.0.0a1->fsspec[http]<=2025.3.0,>=2023.1.0->datasets>=2.7.1->transformer_lens) (1.20.0)\n",
      "Requirement already satisfied: idna>=2.0 in /home/matanlevy/miniconda3/envs/myenv/lib/python3.10/site-packages (from yarl<2.0,>=1.17.0->aiohttp!=4.0.0a0,!=4.0.0a1->fsspec[http]<=2025.3.0,>=2023.1.0->datasets>=2.7.1->transformer_lens) (3.7)\n",
      "Requirement already satisfied: hf-xet<2.0.0,>=1.1.2 in /home/matanlevy/miniconda3/envs/myenv/lib/python3.10/site-packages (from huggingface-hub>=0.21.0->accelerate>=0.23.0->transformer_lens) (1.1.3)\n",
      "Requirement already satisfied: wadler-lindig>=0.1.3 in /home/matanlevy/miniconda3/envs/myenv/lib/python3.10/site-packages (from jaxtyping>=0.2.11->transformer_lens) (0.1.6)\n",
      "Requirement already satisfied: python-dateutil>=2.8.2 in /home/matanlevy/miniconda3/envs/myenv/lib/python3.10/site-packages (from pandas>=1.1.5->transformer_lens) (2.9.0.post0)\n",
      "Requirement already satisfied: pytz>=2020.1 in /home/matanlevy/miniconda3/envs/myenv/lib/python3.10/site-packages (from pandas>=1.1.5->transformer_lens) (2024.1)\n",
      "Requirement already satisfied: tzdata>=2022.7 in /home/matanlevy/miniconda3/envs/myenv/lib/python3.10/site-packages (from pandas>=1.1.5->transformer_lens) (2025.2)\n",
      "Requirement already satisfied: six>=1.5 in /home/matanlevy/miniconda3/envs/myenv/lib/python3.10/site-packages (from python-dateutil>=2.8.2->pandas>=1.1.5->transformer_lens) (1.17.0)\n",
      "Requirement already satisfied: charset-normalizer<4,>=2 in /home/matanlevy/miniconda3/envs/myenv/lib/python3.10/site-packages (from requests>=2.32.2->datasets>=2.7.1->transformer_lens) (3.3.2)\n",
      "Requirement already satisfied: urllib3<3,>=1.21.1 in /home/matanlevy/miniconda3/envs/myenv/lib/python3.10/site-packages (from requests>=2.32.2->datasets>=2.7.1->transformer_lens) (2.3.0)\n",
      "Requirement already satisfied: certifi>=2017.4.17 in /home/matanlevy/miniconda3/envs/myenv/lib/python3.10/site-packages (from requests>=2.32.2->datasets>=2.7.1->transformer_lens) (2025.4.26)\n",
      "Requirement already satisfied: markdown-it-py>=2.2.0 in /home/matanlevy/miniconda3/envs/myenv/lib/python3.10/site-packages (from rich>=12.6.0->transformer_lens) (3.0.0)\n",
      "Requirement already satisfied: pygments<3.0.0,>=2.13.0 in /home/matanlevy/miniconda3/envs/myenv/lib/python3.10/site-packages (from rich>=12.6.0->transformer_lens) (2.19.1)\n",
      "Requirement already satisfied: mdurl~=0.1 in /home/matanlevy/miniconda3/envs/myenv/lib/python3.10/site-packages (from markdown-it-py>=2.2.0->rich>=12.6.0->transformer_lens) (0.1.2)\n",
      "Requirement already satisfied: sympy>=1.13.3 in /home/matanlevy/miniconda3/envs/myenv/lib/python3.10/site-packages (from torch>=2.2->transformer_lens) (1.14.0)\n",
      "Requirement already satisfied: networkx in /home/matanlevy/miniconda3/envs/myenv/lib/python3.10/site-packages (from torch>=2.2->transformer_lens) (3.4.2)\n",
      "Requirement already satisfied: jinja2 in /home/matanlevy/miniconda3/envs/myenv/lib/python3.10/site-packages (from torch>=2.2->transformer_lens) (3.1.6)\n",
      "Requirement already satisfied: nvidia-cuda-nvrtc-cu12==12.6.77 in /home/matanlevy/miniconda3/envs/myenv/lib/python3.10/site-packages (from torch>=2.2->transformer_lens) (12.6.77)\n",
      "Requirement already satisfied: nvidia-cuda-runtime-cu12==12.6.77 in /home/matanlevy/miniconda3/envs/myenv/lib/python3.10/site-packages (from torch>=2.2->transformer_lens) (12.6.77)\n",
      "Requirement already satisfied: nvidia-cuda-cupti-cu12==12.6.80 in /home/matanlevy/miniconda3/envs/myenv/lib/python3.10/site-packages (from torch>=2.2->transformer_lens) (12.6.80)\n",
      "Requirement already satisfied: nvidia-cudnn-cu12==9.5.1.17 in /home/matanlevy/miniconda3/envs/myenv/lib/python3.10/site-packages (from torch>=2.2->transformer_lens) (9.5.1.17)\n",
      "Requirement already satisfied: nvidia-cublas-cu12==12.6.4.1 in /home/matanlevy/miniconda3/envs/myenv/lib/python3.10/site-packages (from torch>=2.2->transformer_lens) (12.6.4.1)\n",
      "Requirement already satisfied: nvidia-cufft-cu12==11.3.0.4 in /home/matanlevy/miniconda3/envs/myenv/lib/python3.10/site-packages (from torch>=2.2->transformer_lens) (11.3.0.4)\n",
      "Requirement already satisfied: nvidia-curand-cu12==10.3.7.77 in /home/matanlevy/miniconda3/envs/myenv/lib/python3.10/site-packages (from torch>=2.2->transformer_lens) (10.3.7.77)\n",
      "Requirement already satisfied: nvidia-cusolver-cu12==11.7.1.2 in /home/matanlevy/miniconda3/envs/myenv/lib/python3.10/site-packages (from torch>=2.2->transformer_lens) (11.7.1.2)\n",
      "Requirement already satisfied: nvidia-cusparse-cu12==12.5.4.2 in /home/matanlevy/miniconda3/envs/myenv/lib/python3.10/site-packages (from torch>=2.2->transformer_lens) (12.5.4.2)\n",
      "Requirement already satisfied: nvidia-cusparselt-cu12==0.6.3 in /home/matanlevy/miniconda3/envs/myenv/lib/python3.10/site-packages (from torch>=2.2->transformer_lens) (0.6.3)\n",
      "Requirement already satisfied: nvidia-nccl-cu12==2.26.2 in /home/matanlevy/miniconda3/envs/myenv/lib/python3.10/site-packages (from torch>=2.2->transformer_lens) (2.26.2)\n",
      "Requirement already satisfied: nvidia-nvtx-cu12==12.6.77 in /home/matanlevy/miniconda3/envs/myenv/lib/python3.10/site-packages (from torch>=2.2->transformer_lens) (12.6.77)\n",
      "Requirement already satisfied: nvidia-nvjitlink-cu12==12.6.85 in /home/matanlevy/miniconda3/envs/myenv/lib/python3.10/site-packages (from torch>=2.2->transformer_lens) (12.6.85)\n",
      "Requirement already satisfied: nvidia-cufile-cu12==1.11.1.6 in /home/matanlevy/miniconda3/envs/myenv/lib/python3.10/site-packages (from torch>=2.2->transformer_lens) (1.11.1.6)\n",
      "Requirement already satisfied: triton==3.3.1 in /home/matanlevy/miniconda3/envs/myenv/lib/python3.10/site-packages (from torch>=2.2->transformer_lens) (3.3.1)\n",
      "Requirement already satisfied: setuptools>=40.8.0 in /home/matanlevy/miniconda3/envs/myenv/lib/python3.10/site-packages (from triton==3.3.1->torch>=2.2->transformer_lens) (78.1.1)\n",
      "Requirement already satisfied: mpmath<1.4,>=1.1.0 in /home/matanlevy/miniconda3/envs/myenv/lib/python3.10/site-packages (from sympy>=1.13.3->torch>=2.2->transformer_lens) (1.3.0)\n",
      "Requirement already satisfied: regex!=2019.12.17 in /home/matanlevy/miniconda3/envs/myenv/lib/python3.10/site-packages (from transformers>=4.43->transformer_lens) (2024.11.6)\n",
      "Requirement already satisfied: tokenizers<0.22,>=0.21 in /home/matanlevy/miniconda3/envs/myenv/lib/python3.10/site-packages (from transformers>=4.43->transformer_lens) (0.21.1)\n",
      "Requirement already satisfied: click!=8.0.0,>=7.1 in /home/matanlevy/miniconda3/envs/myenv/lib/python3.10/site-packages (from wandb>=0.13.5->transformer_lens) (8.2.1)\n",
      "Requirement already satisfied: gitpython!=3.1.29,>=1.0.0 in /home/matanlevy/miniconda3/envs/myenv/lib/python3.10/site-packages (from wandb>=0.13.5->transformer_lens) (3.1.44)\n",
      "Requirement already satisfied: platformdirs in /home/matanlevy/miniconda3/envs/myenv/lib/python3.10/site-packages (from wandb>=0.13.5->transformer_lens) (4.3.7)\n",
      "Requirement already satisfied: protobuf!=4.21.0,!=5.28.0,<7,>=3.19.0 in /home/matanlevy/miniconda3/envs/myenv/lib/python3.10/site-packages (from wandb>=0.13.5->transformer_lens) (6.31.1)\n",
      "Requirement already satisfied: pydantic<3 in /home/matanlevy/miniconda3/envs/myenv/lib/python3.10/site-packages (from wandb>=0.13.5->transformer_lens) (2.11.5)\n",
      "Requirement already satisfied: sentry-sdk>=2.0.0 in /home/matanlevy/miniconda3/envs/myenv/lib/python3.10/site-packages (from wandb>=0.13.5->transformer_lens) (2.29.1)\n",
      "Requirement already satisfied: setproctitle in /home/matanlevy/miniconda3/envs/myenv/lib/python3.10/site-packages (from wandb>=0.13.5->transformer_lens) (1.3.6)\n",
      "Requirement already satisfied: annotated-types>=0.6.0 in /home/matanlevy/miniconda3/envs/myenv/lib/python3.10/site-packages (from pydantic<3->wandb>=0.13.5->transformer_lens) (0.7.0)\n",
      "Requirement already satisfied: pydantic-core==2.33.2 in /home/matanlevy/miniconda3/envs/myenv/lib/python3.10/site-packages (from pydantic<3->wandb>=0.13.5->transformer_lens) (2.33.2)\n",
      "Requirement already satisfied: typing-inspection>=0.4.0 in /home/matanlevy/miniconda3/envs/myenv/lib/python3.10/site-packages (from pydantic<3->wandb>=0.13.5->transformer_lens) (0.4.1)\n",
      "Requirement already satisfied: gitdb<5,>=4.0.1 in /home/matanlevy/miniconda3/envs/myenv/lib/python3.10/site-packages (from gitpython!=3.1.29,>=1.0.0->wandb>=0.13.5->transformer_lens) (4.0.12)\n",
      "Requirement already satisfied: smmap<6,>=3.0.1 in /home/matanlevy/miniconda3/envs/myenv/lib/python3.10/site-packages (from gitdb<5,>=4.0.1->gitpython!=3.1.29,>=1.0.0->wandb>=0.13.5->transformer_lens) (5.0.2)\n",
      "Requirement already satisfied: MarkupSafe>=2.0 in /home/matanlevy/miniconda3/envs/myenv/lib/python3.10/site-packages (from jinja2->torch>=2.2->transformer_lens) (3.0.2)\n",
      "Note: you may need to restart the kernel to use updated packages.\n"
     ]
    }
   ],
   "source": [
    "%pip install transformer_lens"
   ]
  },
  {
   "cell_type": "code",
   "execution_count": 2,
   "metadata": {
    "colab": {
     "base_uri": "https://localhost:8080/"
    },
    "id": "Hjuwe9BT8_ZO",
    "outputId": "c7eda37e-2551-4856-fd50-6b4e2ea8dea8"
   },
   "outputs": [
    {
     "data": {
      "text/plain": [
       "<torch.autograd.grad_mode.set_grad_enabled at 0x7f5948267550>"
      ]
     },
     "execution_count": 2,
     "metadata": {},
     "output_type": "execute_result"
    }
   ],
   "source": [
    "from transformer_lens import HookedEncoderDecoder\n",
    "import transformer_lens.utils as utils\n",
    "from transformers import AutoTokenizer, AutoModelForSeq2SeqLM\n",
    "from transformer_lens.loading_from_pretrained import OFFICIAL_MODEL_NAMES\n",
    "from transformers.models.t5.tokenization_t5_fast import T5TokenizerFast\n",
    "import transformers\n",
    "import json\n",
    "import os\n",
    "import time\n",
    "import numpy as np\n",
    "from typing import List, Tuple, Dict\n",
    "import re\n",
    "from tqdm import tqdm\n",
    "import pickle\n",
    "import torch\n",
    "\n",
    "\n",
    "torch.set_grad_enabled(False)\n"
   ]
  },
  {
   "cell_type": "markdown",
   "metadata": {
    "id": "Bfk65XdM8_ZP"
   },
   "source": [
    "## Loading the Model in TransformerLens"
   ]
  },
  {
   "cell_type": "markdown",
   "metadata": {
    "id": "etGo85Pj8_ZU"
   },
   "source": [
    "Please download the model first: https://cloud.anja.re/s/Qpo8CZ6yRzDH7ZF"
   ]
  },
  {
   "cell_type": "code",
   "execution_count": 3,
   "metadata": {
    "colab": {
     "base_uri": "https://localhost:8080/"
    },
    "id": "91x37_ze8_ZU",
    "outputId": "09955f96-b4fe-419d-874b-bef115375f94"
   },
   "outputs": [
    {
     "name": "stderr",
     "output_type": "stream",
     "text": [
      "WARNING:root:Support for T5 in TransformerLens is currently experimental, until such a time when it has feature parity with HookedTransformer and has been tested on real research tasks. Until then, backward compatibility is not guaranteed. Please see the docs for information on the limitations of the current implementation.\n",
      "If using T5 for interpretability research, keep in mind that T5 has some significant architectural differences to GPT. The major one is that T5 is an Encoder-Decoder modelAlso, it uses relative positional embeddings, different types of Attention (without bias) and LayerNorm\n"
     ]
    },
    {
     "name": "stdout",
     "output_type": "stream",
     "text": [
      "Moving model to device:  cuda\n",
      "Loaded pretrained model DSI-large-7423 into HookedTransformer\n"
     ]
    }
   ],
   "source": [
    "# checkpoint = \"C:\\\\projects\\\\transformers\\\\236004-HW1-GPT\\\\DSI-large-7423\"\n",
    "checkpoint = \"DSI-large-7423\"\n",
    "\n",
    "OFFICIAL_MODEL_NAMES.append(checkpoint)\n",
    "\n",
    "hf_model = AutoModelForSeq2SeqLM.from_pretrained(checkpoint)\n",
    "tokenizer = AutoTokenizer.from_pretrained(checkpoint)\n",
    "device = utils.get_device()\n",
    "model = HookedEncoderDecoder.from_pretrained(checkpoint, hf_model=hf_model, device=device)\n",
    "\n",
    "tokenizer_t5 = AutoTokenizer.from_pretrained('google-t5/t5-large')\n",
    "\n",
    "\n",
    "# Our model has a new token for each document id that we trained it on.\n",
    "\n",
    "# token id of first document that was added\n",
    "first_added_doc_id = len(tokenizer_t5)\n",
    "# token id of the last document that was added\n",
    "last_added_doc_id = len(tokenizer_t5) + (len(tokenizer) - len(tokenizer_t5))\n",
    "del tokenizer_t5\n"
   ]
  },
  {
   "cell_type": "markdown",
   "metadata": {
    "id": "KEzmAFek8_ZV"
   },
   "source": [
    "## Running a sample query"
   ]
  },
  {
   "cell_type": "code",
   "execution_count": 4,
   "metadata": {
    "colab": {
     "base_uri": "https://localhost:8080/"
    },
    "id": "uygcV9I-8_ZV",
    "outputId": "e005e3f4-e8a0-4907-a6e9-e885006ccc03"
   },
   "outputs": [
    {
     "name": "stdout",
     "output_type": "stream",
     "text": [
      "32100 42100\n"
     ]
    }
   ],
   "source": [
    "print(first_added_doc_id, last_added_doc_id)"
   ]
  },
  {
   "cell_type": "code",
   "execution_count": 5,
   "metadata": {
    "colab": {
     "base_uri": "https://localhost:8080/"
    },
    "id": "fJ_MG9aU8_ZV",
    "outputId": "df07b66c-20a6-46c7-a406-f599c9713f41"
   },
   "outputs": [
    {
     "name": "stderr",
     "output_type": "stream",
     "text": [
      "WARNING:root:No attention mask provided. Assuming all tokens should be attended to.\n"
     ]
    }
   ],
   "source": [
    "query = \"test query\"\n",
    "\n",
    "input_tokens = tokenizer(query, return_tensors='pt')['input_ids']\n",
    "decoder_input = torch.tensor([[0]])\n",
    "\n",
    "logits, cache = model.run_with_cache(input_tokens, decoder_input, remove_batch_dim=True)"
   ]
  },
  {
   "cell_type": "code",
   "execution_count": 6,
   "metadata": {
    "colab": {
     "base_uri": "https://localhost:8080/"
    },
    "id": "LT_wPTWa8_ZV",
    "outputId": "aeb21e06-de4e-4b65-aac7-51d8dbb3a270"
   },
   "outputs": [
    {
     "data": {
      "text/plain": [
       "tensor([[[-138.7821, -133.5983,  -91.3783,  ...,  -12.2906,   -8.3384,\n",
       "            -7.1562]]], device='cuda:0')"
      ]
     },
     "execution_count": 6,
     "metadata": {},
     "output_type": "execute_result"
    }
   ],
   "source": [
    "logits"
   ]
  },
  {
   "cell_type": "code",
   "execution_count": 7,
   "metadata": {
    "colab": {
     "base_uri": "https://localhost:8080/"
    },
    "id": "wTT7Wo6f8_ZV",
    "outputId": "60dba4fa-c3a8-4be4-cacf-05f733a2eb09"
   },
   "outputs": [
    {
     "data": {
      "text/plain": [
       "(tensor([[35802]], device='cuda:0'), '@DOC_ID_5944678408069429441@')"
      ]
     },
     "execution_count": 7,
     "metadata": {},
     "output_type": "execute_result"
    }
   ],
   "source": [
    "# Prediction from the logits\n",
    "torch.argmax(logits, dim=-1), tokenizer.decode(torch.argmax(logits, dim=-1)[0][0])"
   ]
  },
  {
   "cell_type": "markdown",
   "metadata": {
    "id": "ZJf3GycK8_ZV"
   },
   "source": [
    "## Examining the activations\n",
    "\n",
    "The activations of each component in the transformer are stored in the `cache` object. It's basically a dict from which you choose which component to look at.\n",
    "\n",
    "Here, we print all possible component keys for layer 0 in the decoder:"
   ]
  },
  {
   "cell_type": "code",
   "execution_count": 8,
   "metadata": {
    "colab": {
     "base_uri": "https://localhost:8080/"
    },
    "id": "Ap-YUWp_8_ZW",
    "outputId": "996969ad-a628-4deb-9c51-219c79e72b43"
   },
   "outputs": [
    {
     "name": "stdout",
     "output_type": "stream",
     "text": [
      "decoder.0.hook_resid_pre\n",
      "decoder.0.ln1.hook_scale\n",
      "decoder.0.ln1.hook_normalized\n",
      "decoder.0.attn.hook_q\n",
      "decoder.0.attn.hook_k\n",
      "decoder.0.attn.hook_v\n",
      "decoder.0.attn.hook_attn_scores\n",
      "decoder.0.attn.hook_pattern\n",
      "decoder.0.attn.hook_z\n",
      "decoder.0.hook_attn_out\n",
      "decoder.0.hook_resid_mid\n",
      "decoder.0.ln2.hook_scale\n",
      "decoder.0.ln2.hook_normalized\n",
      "decoder.0.cross_attn.hook_q\n",
      "decoder.0.cross_attn.hook_k\n",
      "decoder.0.cross_attn.hook_v\n",
      "decoder.0.cross_attn.hook_attn_scores\n",
      "decoder.0.cross_attn.hook_pattern\n",
      "decoder.0.cross_attn.hook_z\n",
      "decoder.0.hook_cross_attn_out\n",
      "decoder.0.hook_resid_mid_cross\n",
      "decoder.0.ln3.hook_scale\n",
      "decoder.0.ln3.hook_normalized\n",
      "decoder.0.mlp.hook_pre\n",
      "decoder.0.mlp.hook_post\n",
      "decoder.0.hook_mlp_out\n",
      "decoder.0.hook_resid_post\n"
     ]
    }
   ],
   "source": [
    "for key in cache.keys():\n",
    "  if key.startswith('decoder.0.'):\n",
    "    print(key)"
   ]
  },
  {
   "cell_type": "markdown",
   "metadata": {
    "id": "gX78yHjz8_ZW"
   },
   "source": [
    "We choose to look at the output of the MLP in layer 19 of the decoder:"
   ]
  },
  {
   "cell_type": "code",
   "execution_count": 9,
   "metadata": {
    "colab": {
     "base_uri": "https://localhost:8080/"
    },
    "id": "BZ2JcGt78_ZW",
    "outputId": "0cb54ee3-9a71-4678-a518-a9c3df9dfdb9"
   },
   "outputs": [
    {
     "data": {
      "text/plain": [
       "(tensor([[ 336.5700,  160.1093, -135.8744,  ...,  107.8389,  -44.2124,\n",
       "           150.3653]], device='cuda:0'),\n",
       " torch.Size([1, 1024]))"
      ]
     },
     "execution_count": 9,
     "metadata": {},
     "output_type": "execute_result"
    }
   ],
   "source": [
    "cache['decoder.19.hook_mlp_out'], cache['decoder.19.hook_mlp_out'].shape"
   ]
  },
  {
   "cell_type": "markdown",
   "metadata": {
    "id": "cc8ULrDt8_ZW"
   },
   "source": [
    "Take a look at where the MLP hooks are computed: https://github.com/TransformerLensOrg/TransformerLens/blob/main/transformer_lens/components/mlps/mlp.py\n",
    "\n",
    "`hook_pre`: Before activation,\n",
    "`hook_post`: After applying activation"
   ]
  },
  {
   "cell_type": "code",
   "execution_count": 10,
   "metadata": {
    "id": "h-93JVnM8_ZW"
   },
   "outputs": [],
   "source": [
    "def predict(model: HookedEncoderDecoder, query:str, tokenizer: T5TokenizerFast) -> Tuple[torch.Tensor, str]:\n",
    "\n",
    "  input_tokens = tokenizer(query, return_tensors='pt')['input_ids']\n",
    "  decoder_input = torch.tensor([[0]])\n",
    "\n",
    "  logits, cache = model.run_with_cache(input_tokens, decoder_input, remove_batch_dim=True)\n",
    "\n",
    "  # return [logits, result]\n",
    "  return logits, tokenizer.decode(torch.argmax(logits, dim=-1)[0][0]), cache\n"
   ]
  },
  {
   "cell_type": "code",
   "execution_count": 11,
   "metadata": {
    "id": "BD9wRt0r8_ZW"
   },
   "outputs": [],
   "source": [
    "# load dataset\n",
    "path_to_data = \"NQ10k\"\n",
    "with open(os.path.join(path_to_data, 'documents-10000-7423.json')) as fp:\n",
    "  docs = json.load(fp)\n",
    "\n",
    "with open(os.path.join(path_to_data, 'train_queries-10000-7423.json')) as fp:\n",
    "  train = json.load(fp)\n",
    "\n",
    "with open(os.path.join(path_to_data, 'val_queries-10000-7423.json')) as fp:\n",
    "  val = json.load(fp)\n",
    "\n",
    "with open(os.path.join(path_to_data, 'test_queries-10000-7423.json')) as fp:\n",
    "  test = json.load(fp)\n"
   ]
  },
  {
   "cell_type": "code",
   "execution_count": 12,
   "metadata": {
    "id": "DSyc6Gws8_ZW"
   },
   "outputs": [],
   "source": [
    "# use this to get tqdm to stay as 1 line (supresses \"WARNING:root:No attention mask provided. Assuming all tokens should be attended to.\")\n",
    "import logging\n",
    "logging.getLogger().setLevel(logging.CRITICAL)\n"
   ]
  },
  {
   "cell_type": "code",
   "execution_count": 13,
   "metadata": {
    "colab": {
     "base_uri": "https://localhost:8080/"
    },
    "id": "yq0slx9h8_ZX",
    "outputId": "2c5226ee-2ab4-40b9-82ff-a407630d3e97"
   },
   "outputs": [
    {
     "name": "stdout",
     "output_type": "stream",
     "text": [
      "[-2081335883615568321] @DOC_ID_-2081335883615568321@\n",
      "[-3952149172515325408] @DOC_ID_-3952149172515325408@\n",
      "[3180949643664273199] @DOC_ID_3180949643664273199@\n",
      "[5450119816198102820] @DOC_ID_5450119816198102820@\n",
      "[5450119816198102820] @DOC_ID_5450119816198102820@\n",
      "[5450119816198102820] @DOC_ID_5450119816198102820@\n",
      "[3369959950731134123] @DOC_ID_3369959950731134123@\n",
      "[6328671855929848793] @DOC_ID_6328671855929848793@\n",
      "[6035361184366570886] @DOC_ID_6035361184366570886@\n",
      "[138352781929936545] @DOC_ID_138352781929936545@\n"
     ]
    }
   ],
   "source": [
    "# evaluate on training set to see model indeed returns correct value:\n",
    "# we see that we need another function to match values\n",
    "for s_num in range(10):\n",
    "  print(train[s_num]['relevant_docs'], predict(model, train[s_num]['query'], tokenizer)[1])\n"
   ]
  },
  {
   "cell_type": "code",
   "execution_count": 14,
   "metadata": {
    "id": "t6UGq02V8_ZX"
   },
   "outputs": [],
   "source": [
    "def result_to_docid(result: str)-> str:\n",
    "  return re.sub(r'@DOC_ID_(-?\\d+)@', r'\\1', result)\n"
   ]
  },
  {
   "cell_type": "code",
   "execution_count": 15,
   "metadata": {
    "colab": {
     "base_uri": "https://localhost:8080/"
    },
    "id": "cpEV2PVa8_ZX",
    "outputId": "6709e034-2b5c-4dfe-d229-0c2ede6b1048"
   },
   "outputs": [
    {
     "name": "stdout",
     "output_type": "stream",
     "text": [
      "123\n",
      "[-4902966927894222877] -8367462529797331702\n"
     ]
    }
   ],
   "source": [
    "# validate predict function:\n",
    "for s_num in range(200):\n",
    "  if not (eval(result_to_docid(predict(model, train[s_num]['query'], tokenizer)[1])) == train[s_num]['relevant_docs'][0]):\n",
    "    print(s_num)\n",
    "    print(train[s_num]['relevant_docs'], result_to_docid(predict(model, train[s_num]['query'], tokenizer)[1]))\n"
   ]
  },
  {
   "cell_type": "code",
   "execution_count": 16,
   "metadata": {
    "id": "DhffI0ZZ8_ZX"
   },
   "outputs": [],
   "source": [
    "# 1) ─── Updated batch‐predict definition ───────────────────────────────────\n",
    "\n",
    "import torch\n",
    "from typing import List, Tuple\n",
    "from transformer_lens import HookedEncoderDecoder\n",
    "from transformers.models.t5.tokenization_t5_fast import T5TokenizerFast\n",
    "\n",
    "def predict_batch(\n",
    "    model: HookedEncoderDecoder,\n",
    "    query_list: List[str],\n",
    "    tokenizer: T5TokenizerFast\n",
    ") -> Tuple[torch.Tensor, List[str], torch.Tensor, object]:\n",
    "\n",
    "    # move inputs to GPU\n",
    "    batch         = tokenizer(query_list, return_tensors='pt', padding=True)['input_ids'].cuda()\n",
    "    decoder_input = torch.tensor([[0]], device='cuda')\n",
    "\n",
    "    logits, cache = model.run_with_cache(\n",
    "        batch, decoder_input, remove_batch_dim=True\n",
    "    )\n",
    "\n",
    "    # keep the @DOC_ID_n@ tokens in the decode\n",
    "    preds = tokenizer.batch_decode(\n",
    "        torch.argmax(logits, dim=-1),\n",
    "        skip_special_tokens=False\n",
    "    )\n",
    "\n",
    "    return torch.argmax(logits, dim=-1), preds, logits, cache"
   ]
  },
  {
   "cell_type": "code",
   "execution_count": 17,
   "metadata": {
    "colab": {
     "base_uri": "https://localhost:8080/"
    },
    "editable": true,
    "id": "E1hFuK9A8_ZX",
    "outputId": "54e3adea-5d16-497d-e0dd-e463eeb5a726",
    "slideshow": {
     "slide_type": ""
    },
    "tags": []
   },
   "outputs": [
    {
     "name": "stdout",
     "output_type": "stream",
     "text": [
      "[123] ground=-4902966927894222877, pred=-8367462529797331702\n"
     ]
    }
   ],
   "source": [
    "# 2) ─── Chunked validation over 200 queries ───────────────────────────────\n",
    "\n",
    "import re, torch\n",
    "\n",
    "total_queries = 200\n",
    "queries       = [ex['query'] for ex in train[:total_queries]]\n",
    "chunk_size    = 10   # ← you can try 5, 10, 20, etc. until it fits\n",
    "\n",
    "for i in range(0, total_queries, chunk_size):\n",
    "    q_chunk = queries[i : i + chunk_size]\n",
    "    _, preds_chunk, logits_chunk, cache_chunk = predict_batch(\n",
    "        model, q_chunk, tokenizer\n",
    "    )\n",
    "\n",
    "    # for each item in this mini‐batch, compare to the true doc‐ID\n",
    "    for j, pred_str in enumerate(preds_chunk):\n",
    "        idx     = i + j\n",
    "        true_id = train[idx]['relevant_docs'][0]\n",
    "        # extract the integer from \"@DOC_ID_n@\"\n",
    "        m = re.search(r'-?\\d+', pred_str)\n",
    "        pred_id = int(m.group(0)) if m else None\n",
    "\n",
    "        if pred_id != true_id:\n",
    "            print(f\"[{idx}] ground={true_id}, pred={pred_id}\")\n",
    "\n",
    "    # immediately free VRAM before the next chunk\n",
    "    del logits_chunk, cache_chunk\n",
    "    torch.cuda.empty_cache()"
   ]
  },
  {
   "cell_type": "code",
   "execution_count": 18,
   "metadata": {
    "colab": {
     "base_uri": "https://localhost:8080/"
    },
    "id": "XlNNUwqa8_ZY",
    "outputId": "a0250580-58d9-43cd-b31f-fa9de217849f"
   },
   "outputs": [
    {
     "name": "stdout",
     "output_type": "stream",
     "text": [
      "single‐query (50×) time: 11.8s\n",
      "chunked (10 per batch) time: 1.7s\n"
     ]
    }
   ],
   "source": [
    "# 3) ─── Chunked timing comparison ─────────────────────────────────────────\n",
    "\n",
    "import time, torch\n",
    "\n",
    "total_queries = 50\n",
    "queries       = [ex['query'] for ex in train[:total_queries]]\n",
    "chunk_size    = 10   # same chunk size you tested above\n",
    "\n",
    "# single‐query loop (with cache, but we free it each time)\n",
    "start = time.time()\n",
    "for idx in range(total_queries):\n",
    "    q = [queries[idx]]\n",
    "    _, _, _, cache = predict_batch(model, q, tokenizer)\n",
    "    del cache\n",
    "    torch.cuda.empty_cache()\n",
    "single_time = time.time() - start\n",
    "\n",
    "# chunked‐batch loop\n",
    "start = time.time()\n",
    "for i in range(0, total_queries, chunk_size):\n",
    "    q_chunk = queries[i : i + chunk_size]\n",
    "    _, _, _, cache = predict_batch(model, q_chunk, tokenizer)\n",
    "    del cache\n",
    "    torch.cuda.empty_cache()\n",
    "batch_time = time.time() - start\n",
    "\n",
    "print(f\"single‐query ({total_queries}×) time: {single_time:.1f}s\")\n",
    "print(f\"chunked ({chunk_size} per batch) time: {batch_time:.1f}s\")"
   ]
  },
  {
   "cell_type": "code",
   "execution_count": 19,
   "metadata": {
    "id": "yaXFN-9A8_ZY"
   },
   "outputs": [],
   "source": [
    "# lets define evaluation metrics:\n",
    "\n",
    "def get_metrics(logits:List[torch.Tensor], ground_truths:List[Dict], tokenizer: T5TokenizerFast):\n",
    "  reciprocal_ranks = []\n",
    "  hits_at_1_count = 0\n",
    "  hits_at_5_count = 0\n",
    "  hits_at_10_count = 0\n",
    "\n",
    "\n",
    "  for l, gt in zip(logits, ground_truths):\n",
    "    assert len(gt['relevant_docs']) == 1\n",
    "    gt = str(gt['relevant_docs'][0])\n",
    "    y = np.argsort(l[0][0].detach().cpu().numpy())[::-1]\n",
    "    predicted_doc_ids = [result_to_docid(a) for a in tokenizer.batch_decode(y)]\n",
    "    if gt in predicted_doc_ids:\n",
    "      rank = predicted_doc_ids.index(gt) + 1  # 1-based rank\n",
    "      reciprocal_ranks.append(1.0 / rank)\n",
    "      if rank == 1:\n",
    "        hits_at_1_count += 1\n",
    "      if rank<=5:\n",
    "        hits_at_5_count += 1\n",
    "      if rank<=10:\n",
    "        hits_at_10_count += 1\n",
    "    else:\n",
    "      reciprocal_ranks.append(0.0)\n",
    "\n",
    "  mrr = sum(reciprocal_ranks) / len(ground_truths)\n",
    "  hits_at_1 = hits_at_1_count / len(ground_truths)\n",
    "  hits_at_5 = hits_at_5_count / len(ground_truths)\n",
    "  hits_at_10 = hits_at_10_count / len(ground_truths)\n",
    "\n",
    "  return mrr, hits_at_1, hits_at_5, hits_at_10"
   ]
  },
  {
   "cell_type": "code",
   "execution_count": 20,
   "metadata": {
    "id": "vCOqn1zH93tH"
   },
   "outputs": [],
   "source": [
    "@torch.inference_mode()\n",
    "def evaluate_split(dataset, model, tokenizer,\n",
    "                   batch_size: int = 32, device: str = \"cuda\"):\n",
    "    \"\"\"\n",
    "    Streams through `dataset` without caching, returns MRR & HITS@k.\n",
    "    \"\"\"\n",
    "    total_rr = hits1 = hits5 = hits10 = 0\n",
    "    n = len(dataset)\n",
    "\n",
    "    for start in tqdm(range(0, n, batch_size), desc=\"Evaluating\"):\n",
    "        batch   = dataset[start:start + batch_size]\n",
    "        queries = [ex[\"query\"] for ex in batch]\n",
    "        gts     = [str(ex[\"relevant_docs\"][0]) for ex in batch]\n",
    "\n",
    "        input_ids = tokenizer(queries, return_tensors=\"pt\",\n",
    "                              padding=True).input_ids.to(device)\n",
    "        dec_ids   = torch.zeros((len(batch), 1),\n",
    "                                dtype=torch.long, device=device)\n",
    "\n",
    "        logits = (model(input_ids=input_ids,\n",
    "                        decoder_input_ids=dec_ids)\n",
    "                  .logits.cpu())                       # (B, 1, vocab)\n",
    "\n",
    "        topk = logits[:, 0, :].topk(k=10, dim=-1).indices\n",
    "        decoded = tokenizer.batch_decode(topk.reshape(-1),\n",
    "                                         skip_special_tokens=True)\n",
    "        decoded = [decoded[i*10:(i+1)*10] for i in range(len(batch))]\n",
    "\n",
    "        for preds, gt in zip(decoded, gts):\n",
    "            preds = [result_to_docid(p) for p in preds]\n",
    "            if gt in preds:\n",
    "                r = preds.index(gt) + 1\n",
    "                total_rr += 1.0 / r\n",
    "                if r == 1:  hits1  += 1\n",
    "                if r <= 5:  hits5  += 1\n",
    "                if r <= 10: hits10 += 1\n",
    "\n",
    "    return {\n",
    "        \"MRR\":     total_rr / n,\n",
    "        \"HITS@1\":  hits1 / n,\n",
    "        \"HITS@5\":  hits5 / n,\n",
    "        \"HITS@10\": hits10 / n,\n",
    "    }"
   ]
  },
  {
   "cell_type": "markdown",
   "metadata": {
    "id": "9A-5wafwzfYx"
   },
   "source": []
  },
  {
   "cell_type": "code",
   "execution_count": 21,
   "metadata": {},
   "outputs": [
    {
     "data": {
      "text/plain": [
       "'\\nExperiment 1 — Single-Neuron Document Boosters (label-free) \\nGoal: Show that individual Stage-III MLP neurons are causally necessary for returning the document-ID token they encode. \\nWhat you get: flip-matrices for every validation query and neuron, a ranked list of the strongest boosters, a CSV mapping each booster to the doc-ID it supports, and bar-plots of ΔHits@1.\\nTL;DR: baseline Hits@1 → mean/zero-patch every neuron → log flips → rank by global ΔHits@1 → match each neuron to the doc token it loses → visualise top boosters.\\n'"
      ]
     },
     "execution_count": 21,
     "metadata": {},
     "output_type": "execute_result"
    }
   ],
   "source": [
    "\"\"\"\n",
    "Experiment 1 — Single-Neuron Document Boosters (label-free) \n",
    "Goal: Show that individual Stage-III MLP neurons are causally necessary for returning the document-ID token they encode. \n",
    "What you get: flip-matrices for every validation query and neuron, a ranked list of the strongest boosters, a CSV mapping each booster to the doc-ID it supports, and bar-plots of ΔHits@1.\n",
    "TL;DR: baseline Hits@1 → mean/zero-patch every neuron → log flips → rank by global ΔHits@1 → match each neuron to the doc token it loses → visualise top boosters.\n",
    "\"\"\""
   ]
  },
  {
   "cell_type": "code",
   "execution_count": 22,
   "metadata": {},
   "outputs": [
    {
     "name": "stderr",
     "output_type": "stream",
     "text": [
      "huggingface/tokenizers: The current process just got forked, after parallelism has already been used. Disabling parallelism to avoid deadlocks...\n",
      "To disable this warning, you can either:\n",
      "\t- Avoid using `tokenizers` before the fork if possible\n",
      "\t- Explicitly set the environment variable TOKENIZERS_PARALLELISM=(true | false)\n"
     ]
    },
    {
     "name": "stdout",
     "output_type": "stream",
     "text": [
      "Note: you may need to restart the kernel to use updated packages.\n"
     ]
    }
   ],
   "source": [
    "# ────────────────────────────────────────────────────────────────────────\n",
    "# Step 0 · Install & imports (run once)\n",
    "# Purpose: bring in TransformerLens + helpers.\n",
    "# ────────────────────────────────────────────────────────────────────────\n",
    "%pip -q install transformer_lens\n",
    "\n",
    "import json, re, time, pathlib, gc, logging, numpy as np, pandas as pd\n",
    "import torch\n",
    "from tqdm import tqdm\n",
    "from transformers import AutoTokenizer, AutoModelForSeq2SeqLM\n",
    "from transformer_lens import HookedEncoderDecoder\n",
    "import matplotlib.pyplot as plt\n",
    "\n",
    "logging.getLogger().setLevel(logging.CRITICAL)   # silence warnings\n",
    "torch.set_grad_enabled(False)\n",
    "device = \"cuda\" if torch.cuda.is_available() else \"cpu\""
   ]
  },
  {
   "cell_type": "code",
   "execution_count": 23,
   "metadata": {},
   "outputs": [
    {
     "name": "stdout",
     "output_type": "stream",
     "text": [
      "Moving model to device:  cuda\n",
      "Loaded pretrained model DSI-large-7423 into HookedTransformer\n",
      "Model ready  |  vocab size = 42100\n"
     ]
    }
   ],
   "source": [
    "# ────────────────────────────────────────────────────────────────────────\n",
    "# Step 1 · Load model & tokenizer\n",
    "# Purpose: DSI-large checkpoint → TransformerLens.\n",
    "# ────────────────────────────────────────────────────────────────────────\n",
    "CKPT = \"DSI-large-7423\"\n",
    "\n",
    "hf_model  = AutoModelForSeq2SeqLM.from_pretrained(CKPT).to(device).eval()\n",
    "tokenizer = AutoTokenizer.from_pretrained(CKPT)\n",
    "model     = HookedEncoderDecoder.from_pretrained(\n",
    "    CKPT, hf_model=hf_model, device=device\n",
    ")\n",
    "\n",
    "print(\"Model ready  |  vocab size =\", len(tokenizer))"
   ]
  },
  {
   "cell_type": "code",
   "execution_count": 24,
   "metadata": {},
   "outputs": [
    {
     "name": "stdout",
     "output_type": "stream",
     "text": [
      "Validation queries = 1000\n"
     ]
    }
   ],
   "source": [
    "# ────────────────────────────────────────────────────────────────────────\n",
    "# Step 2 · Load validation queries\n",
    "# Purpose: build the working list `queries`.\n",
    "# ────────────────────────────────────────────────────────────────────────\n",
    "VAL_FILE = \"NQ10k/val_queries-10000-7423.json\"\n",
    "raw  = json.load(open(VAL_FILE))\n",
    "queries = [ex[\"query\"] for ex in raw]          # already validation‐only\n",
    "NQ = len(queries)\n",
    "print(\"Validation queries =\", NQ)\n",
    "\n",
    "def toks(batch):  # helper\n",
    "    return tokenizer(batch, return_tensors=\"pt\", padding=True).input_ids.to(device)"
   ]
  },
  {
   "cell_type": "code",
   "execution_count": 25,
   "metadata": {},
   "outputs": [
    {
     "name": "stderr",
     "output_type": "stream",
     "text": [
      "Baseline: 100%|██████████| 1/1 [00:02<00:00,  2.28s/it]"
     ]
    },
    {
     "name": "stdout",
     "output_type": "stream",
     "text": [
      "✓ baseline_top.pt written\n"
     ]
    },
    {
     "name": "stderr",
     "output_type": "stream",
     "text": [
      "\n"
     ]
    }
   ],
   "source": [
    "# ────────────────────────────────────────────────────────────────────────\n",
    "# Step 3 · Baseline Top-1 doc tokens\n",
    "# Purpose: compute the reference prediction for every query.\n",
    "# ────────────────────────────────────────────────────────────────────────\n",
    "BATCH = 1024\n",
    "BASE_TOP = torch.empty(NQ, dtype=torch.long)\n",
    "\n",
    "for s in tqdm(range(0, NQ, BATCH), desc=\"Baseline\"):\n",
    "    ids = toks(queries[s:s+BATCH])\n",
    "    dec = torch.zeros((len(ids), 1), dtype=torch.long, device=device)\n",
    "    with torch.inference_mode():\n",
    "        BASE_TOP[s:s+len(ids)] = model(ids, dec, return_type=\"logits\").argmax(-1)[:, 0].cpu()\n",
    "\n",
    "torch.save(BASE_TOP, \"baseline_top.pt\")\n",
    "print(\"✓ baseline_top.pt written\")"
   ]
  },
  {
   "cell_type": "code",
   "execution_count": null,
   "metadata": {},
   "outputs": [
    {
     "name": "stdout",
     "output_type": "stream",
     "text": [
      "d_mlp = 1024\n"
     ]
    }
   ],
   "source": [
    "# ────────────────────────────────────────────────────────────────────────\n",
    "# Step 4 · Mean activations per Stage-III layer  (memory-safe)\n",
    "# ────────────────────────────────────────────────────────────────────────\n",
    "STAGE3   = [18, 19, 20, 21, 22, 23]\n",
    "\n",
    "dummy_ids     = toks([queries[0]])\n",
    "decoder_input = torch.zeros((1, 1), dtype=torch.long, device=device)\n",
    "_, cache0     = model.run_with_cache(dummy_ids, decoder_input)\n",
    "d_mlp         = cache0[\"decoder.18.hook_mlp_out\"].shape[-1]\n",
    "del cache0\n",
    "print(\"d_mlp =\", d_mlp)\n",
    "\n",
    "def layer_mean(layer: int,\n",
    "               big_chunk: int = 32,   # queries streamed to GPU\n",
    "               mini_chunk: int = 32):  # split inside GPU to save RAM\n",
    "    \"\"\"\n",
    "    big_chunk  = how many queries we send to the GPU at once.\n",
    "    mini_chunk = slice that activation tensor *inside* GPU before reducing.\n",
    "    \"\"\"\n",
    "    acc = torch.zeros(d_mlp, dtype=torch.float32, device=\"cpu\")\n",
    "    cnt = 0\n",
    "\n",
    "    for s in range(0, NQ, big_chunk):\n",
    "        ids_big = toks(queries[s:s+big_chunk])\n",
    "        dec_big = torch.zeros((len(ids_big), 1), dtype=torch.long, device=device)\n",
    "\n",
    "        _, cache = model.run_with_cache(ids_big, dec_big)\n",
    "        acts_all = cache[f\"decoder.{layer}.hook_mlp_out\"]      # (B, seq, d_mlp)\n",
    "\n",
    "        # iterate in-GPU mini-chunks → cast to FP16 → mean → move to CPU\n",
    "        for m in range(0, acts_all.shape[0], mini_chunk):\n",
    "            slice_mean = (acts_all[m:m+mini_chunk]          # (m, seq, d_mlp)\n",
    "                          .to(torch.float16)                # halve memory\n",
    "                          .mean(dim=(0, 1))                 # (d_mlp,)\n",
    "                          .to(\"cpu\"))\n",
    "            acc += slice_mean\n",
    "            cnt += 1\n",
    "\n",
    "        del cache, acts_all, ids_big, dec_big\n",
    "        torch.cuda.empty_cache(); gc.collect()\n",
    "\n",
    "    return acc / cnt  # back on CPU\n",
    "\n",
    "means = {L: layer_mean(L) for L in STAGE3}\n",
    "torch.save(means, \"stage3_means.pt\")\n",
    "print(\"✓ stage3_means.pt written\")"
   ]
  },
  {
   "cell_type": "code",
   "execution_count": null,
   "metadata": {},
   "outputs": [],
   "source": [
    "# ────────────────────────────────────────────────────────────────────────\n",
    "# Step 5 · Flip-matrix generation (mean & zero)\n",
    "# Purpose: for each neuron record if Top-1 changes.\n",
    "# ────────────────────────────────────────────────────────────────────────\n",
    "\n",
    "import pathlib, gc, numpy as np, torch\n",
    "from tqdm import tqdm\n",
    "\n",
    "STAGE3    = [18,19,20,21,22,23]\n",
    "d_mlp     = means[next(iter(means))].numel()\n",
    "NQ        = len(queries)\n",
    "OUT       = pathlib.Path(\"label_flips\"); OUT.mkdir(exist_ok=True)\n",
    "\n",
    "all_ids   = toks(queries)                             # already on GPU\n",
    "all_dec   = torch.zeros((NQ,1),dtype=torch.long,device=device)\n",
    "\n",
    "# pre‐allocate GPU tensors\n",
    "flip_mean = torch.zeros(d_mlp, NQ, dtype=torch.bool, device=device)\n",
    "flip_zero = torch.zeros(d_mlp, NQ, dtype=torch.bool, device=device)\n",
    "\n",
    "for L in STAGE3:\n",
    "    key = f\"decoder.{L}.hook_mlp_out\"\n",
    "    mv  = means[L].to(device)\n",
    "\n",
    "    for n in tqdm(range(d_mlp), desc=f\"Layer {L}\"):\n",
    "        v = float(mv[n])\n",
    "\n",
    "        def h_mean(a, *, hook, idx=n, val=v):\n",
    "            a[..., idx] = val; return a\n",
    "        def h_zero(a, *, hook, idx=n):\n",
    "            a[..., idx] = 0.0; return a\n",
    "\n",
    "        # mean‐patch\n",
    "        with torch.inference_mode(), model.hooks([(key, h_mean)]):\n",
    "            logits = model(all_ids, all_dec, return_type=\"logits\")\n",
    "        preds = logits.argmax(-1)[:,0]                  # stays on GPU\n",
    "        flip_mean[n] = (preds != BASE_TOP.to(device))\n",
    "\n",
    "        # zero‐patch\n",
    "        with torch.inference_mode(), model.hooks([(key, h_zero)]):\n",
    "            logits = model(all_ids, all_dec, return_type=\"logits\")\n",
    "        preds = logits.argmax(-1)[:,0]\n",
    "        flip_zero[n] = (preds != BASE_TOP.to(device))\n",
    "\n",
    "    # once per layer, move to CPU & write\n",
    "    m = flip_mean.cpu().numpy().T   # shape (NQ, d_mlp)\n",
    "    z = flip_zero.cpu().numpy().T\n",
    "    np.memmap(OUT/f\"L{L}_mean.npy\", mode=\"w+\", dtype=bool, shape=m.shape)[:] = m\n",
    "    np.memmap(OUT/f\"L{L}_zero.npy\", mode=\"w+\", dtype=bool, shape=z.shape)[:] = z\n",
    "\n",
    "    # clear GPU buffers for next layer\n",
    "    flip_mean.zero_(); flip_zero.zero_()\n",
    "    torch.cuda.empty_cache(); gc.collect()\n",
    "\n",
    "print(\"✓ flip-matrices done\")"
   ]
  },
  {
   "cell_type": "code",
   "execution_count": 30,
   "metadata": {},
   "outputs": [
    {
     "name": "stdout",
     "output_type": "stream",
     "text": [
      "   layer  neuron  drop_frac\n",
      "0     23    1023      0.012\n",
      "1     23     927      0.011\n",
      "2     23      33      0.011\n",
      "3     23     529      0.010\n",
      "4     22     575      0.009\n",
      "5     23     604      0.009\n",
      "6     22     975      0.008\n",
      "7     22     717      0.008\n",
      "8     22     499      0.008\n",
      "9     22     492      0.008\n"
     ]
    }
   ],
   "source": [
    "# ────────────────────────────────────────────────────────────────────────\n",
    "# Step 6 · Rank neurons by global ΔHits@1\n",
    "# Purpose: find the strongest boosters without using labels.\n",
    "# ────────────────────────────────────────────────────────────────────────\n",
    "records = []\n",
    "for L in STAGE3:\n",
    "    fm = np.memmap(f\"label_flips/L{L}_mean.npy\", mode=\"r\",\n",
    "                   dtype=bool, shape=(NQ, d_mlp))\n",
    "    drop = fm.mean(axis=0)              # fraction of queries flipped\n",
    "    for n, frac in enumerate(drop):\n",
    "        if frac > 0:                    # keep only impactful neurons\n",
    "            records.append({\"layer\": L, \"neuron\": n, \"drop_frac\": float(frac)})\n",
    "\n",
    "df_boost = (pd.DataFrame(records)\n",
    "              .sort_values(\"drop_frac\", ascending=False)\n",
    "              .reset_index(drop=True))\n",
    "df_boost.to_csv(\"top_neurons_overall.csv\", index=False)\n",
    "print(df_boost.head(10))"
   ]
  },
  {
   "cell_type": "code",
   "execution_count": 32,
   "metadata": {},
   "outputs": [
    {
     "name": "stdout",
     "output_type": "stream",
     "text": [
      "✓ Wrote token2doc.json with 10000 entries\n"
     ]
    }
   ],
   "source": [
    "# ────────────────────────────────────────────────────────────────────────\n",
    "# Step 7 · Build token-to-doc map  (one-time helper)\n",
    "# Purpose: map tokenizer doc tokens → plain doc IDs.\n",
    "# ────────────────────────────────────────────────────────────────────────\n",
    "import pathlib, json\n",
    "\n",
    "DOC_FILE = \"NQ10k/documents-10000-7423.json\"\n",
    "OUT_FILE = \"token2doc.json\"\n",
    "\n",
    "if not pathlib.Path(OUT_FILE).exists():\n",
    "    docs = json.load(open(DOC_FILE))\n",
    "    token2doc = {}\n",
    "\n",
    "    # Case A: JSON is a dict of {doc_id_str: text}\n",
    "    if isinstance(docs, dict):\n",
    "        for doc_id_str in docs.keys():\n",
    "            token = f\"@DOC_ID_{doc_id_str}@\"\n",
    "            tok_id = tokenizer.convert_tokens_to_ids(token)\n",
    "            token2doc[str(tok_id)] = doc_id_str\n",
    "\n",
    "    # Case B: JSON is a list of dicts\n",
    "    else:\n",
    "        # Determine the correct ID field by peeking at the first entry\n",
    "        sample = docs[0]\n",
    "        for possible_key in (\"doc_id\", \"id\", \"document_id\"):\n",
    "            if possible_key in sample:\n",
    "                id_key = possible_key\n",
    "                break\n",
    "        else:\n",
    "            raise KeyError(f\"None of ['doc_id','id','document_id'] found in document entries: keys are {list(sample.keys())}\")\n",
    "\n",
    "        for doc in docs:\n",
    "            doc_id = doc[id_key]\n",
    "            token  = f\"@DOC_ID_{doc_id}@\"\n",
    "            tok_id = tokenizer.convert_tokens_to_ids(token)\n",
    "            token2doc[str(tok_id)] = str(doc_id)\n",
    "\n",
    "    json.dump(token2doc, open(OUT_FILE, \"w\"), indent=2)\n",
    "    print(f\"✓ Wrote {OUT_FILE} with {len(token2doc)} entries\")\n",
    "else:\n",
    "    token2doc = json.load(open(OUT_FILE))\n",
    "    print(f\"✓ Loaded existing {OUT_FILE} ({len(token2doc)} entries)\")"
   ]
  },
  {
   "cell_type": "code",
   "execution_count": 33,
   "metadata": {},
   "outputs": [
    {
     "name": "stdout",
     "output_type": "stream",
     "text": [
      "   layer  neuron  drop_frac  doc_token_id                doc_id\n",
      "0     23    1023      0.012         32283  -7171870530802929805\n",
      "1     23     927      0.011         33165   5063826662212255582\n",
      "2     23      33      0.011         32743  -6303098876249509984\n",
      "3     23     529      0.010         33728  -4239091644991703708\n",
      "4     22     575      0.009         34516   4331386215099443862\n"
     ]
    }
   ],
   "source": [
    "# ────────────────────────────────────────────────────────────────────────\n",
    "# Step 8 · Neuron → promoted doc-ID mapping\n",
    "# Purpose: for top-K boosters, find which doc token disappears most.\n",
    "# ────────────────────────────────────────────────────────────────────────\n",
    "K = 20\n",
    "results = []\n",
    "BASE = BASE_TOP.numpy()\n",
    "\n",
    "for _, row in df_boost.head(K).iterrows():\n",
    "    L, n = int(row.layer), int(row.neuron)\n",
    "    fm   = np.memmap(f\"label_flips/L{L}_mean.npy\", mode=\"r\",\n",
    "                     dtype=bool, shape=(NQ, d_mlp))\n",
    "    idx  = np.where(fm[:, n])[0]\n",
    "    if len(idx) == 0: continue\n",
    "    lost = BASE[idx]\n",
    "    top_tok = int(np.bincount(lost).argmax())\n",
    "    results.append({\n",
    "        \"layer\": L,\n",
    "        \"neuron\": n,\n",
    "        \"drop_frac\": row.drop_frac,\n",
    "        \"doc_token_id\": top_tok,\n",
    "        \"doc_id\": token2doc.get(str(top_tok), \"UNK\")\n",
    "    })\n",
    "\n",
    "df_map = pd.DataFrame(results)\n",
    "df_map.to_csv(\"neuron_doc_association.csv\", index=False)\n",
    "print(df_map.head())"
   ]
  },
  {
   "cell_type": "code",
   "execution_count": 39,
   "metadata": {},
   "outputs": [
    {
     "data": {
      "image/png": "[encoded data removed]",
      "text/plain": [
       "<Figure size 1000x400 with 1 Axes>"
      ]
     },
     "metadata": {},
     "output_type": "display_data"
    }
   ],
   "source": [
    "# ────────────────────────────────────────────────────────────────────────\n",
    "# Step 9 · Visual diagnostics\n",
    "# Purpose: bar-plot ΔHits@1 for top boosters (no labels needed).\n",
    "# ────────────────────────────────────────────────────────────────────────\n",
    "top_plot = df_boost.head(50)\n",
    "plt.figure(figsize=(10,4))\n",
    "plt.bar([f\"{r.layer}:{r.neuron}\" for _, r in top_plot.iterrows()],\n",
    "        top_plot.drop_frac * 100)\n",
    "plt.ylabel(\"ΔHits@1 (%)\")\n",
    "plt.title(\"Global strongest document-booster neurons (validation set)\")\n",
    "plt.xticks(rotation=90)\n",
    "plt.tight_layout()\n",
    "plt.show()"
   ]
  },
  {
   "cell_type": "code",
   "execution_count": null,
   "metadata": {},
   "outputs": [],
   "source": []
  },
  {
   "cell_type": "code",
   "execution_count": null,
   "metadata": {},
   "outputs": [],
   "source": []
  },
  {
   "cell_type": "code",
   "execution_count": 41,
   "metadata": {},
   "outputs": [
    {
     "name": "stdout",
     "output_type": "stream",
     "text": [
      "✓ wrote neuron_query_flips_interesting.csv  | rows = 12073\n"
     ]
    }
   ],
   "source": [
    "# ────────────────────────────────────────────────────────────────────────\n",
    "# Step 10 – Build query–neuron flip catalogue\n",
    "# Purpose: collect every (query, neuron, layer) where mean‐ or zero‐patch\n",
    "#          flips the Top-1, for downstream labeling in Experiment 2.\n",
    "# ────────────────────────────────────────────────────────────────────────\n",
    "\n",
    "import pandas as pd\n",
    "import numpy as np\n",
    "from collections import Counter\n",
    "\n",
    "# assumes STAGE3, NQ, queries, and your flip‐matrix files in ./flips are already set up\n",
    "# and that you've loaded:\n",
    "#   BASE_TOP = torch.load(\"BASE_TOP.pt\").numpy()\n",
    "#   d_mlp    = next(iter(means.values())).shape[0]\n",
    "#   STAGE3   = [18,19,20,21,22,23]\n",
    "\n",
    "records = []\n",
    "for L in STAGE3:\n",
    "    # map mean/zero flip bools back into memory\n",
    "    fm_mean = np.memmap(f\"label_flips/L{L}_mean.npy\", dtype=bool, mode=\"r\",\n",
    "                        shape=(NQ, d_mlp))\n",
    "    fm_zero = np.memmap(f\"label_flips/L{L}_zero.npy\", dtype=bool, mode=\"r\",\n",
    "                        shape=(NQ, d_mlp))\n",
    "    for i, q in enumerate(queries):\n",
    "        for n in range(d_mlp):\n",
    "            m, z = int(fm_mean[i, n]), int(fm_zero[i, n])\n",
    "            if m or z:\n",
    "                records.append({\n",
    "                    \"layer\":     L,\n",
    "                    \"neuron\":    n,\n",
    "                    \"query\":     q,\n",
    "                    \"drop_mean\": m,\n",
    "                    \"drop_zero\": z\n",
    "                })\n",
    "\n",
    "df = pd.DataFrame(records)\n",
    "df.to_csv(\"neuron_query_flips_interesting.csv\", index=False)\n",
    "print(\"✓ wrote neuron_query_flips_interesting.csv  | rows =\", len(df))"
   ]
  },
  {
   "cell_type": "code",
   "execution_count": null,
   "metadata": {},
   "outputs": [],
   "source": [
    "\"\"\"\n",
    "Experiment 2 – Label-Specific “Document-Booster” Neurons\n",
    "Goal: Given the validation query set and your pre-computed flip-matrices, discover which decoder-MLP neurons selectively flip the Top-1 document for each semantic label (music, biology, politics, …).\n",
    "TLDR:\n",
    "\t1.\tZero-shot-label every validation query\n",
    "\t2.\tMerge those labels into your existing flip events\n",
    "\t3.\tCompute per-neuron precision, recall & F1\n",
    "\t4.\tHeat-map the most label-specific neurons\n",
    "    \n",
    "\"\"\""
   ]
  },
  {
   "cell_type": "code",
   "execution_count": null,
   "metadata": {},
   "outputs": [],
   "source": []
  },
  {
   "cell_type": "code",
   "execution_count": 35,
   "metadata": {},
   "outputs": [
    {
     "name": "stderr",
     "output_type": "stream",
     "text": [
      "Device set to use cuda:0\n"
     ]
    },
    {
     "data": {
      "application/vnd.jupyter.widget-view+json": {
       "model_id": "a648dd332b4e458184b9adddf34a8bbb",
       "version_major": 2,
       "version_minor": 0
      },
      "text/plain": [
       "Z-Shot Labeling:   0%|          | 0/32 [00:00<?, ?it/s]"
      ]
     },
     "metadata": {},
     "output_type": "display_data"
    },
    {
     "name": "stderr",
     "output_type": "stream",
     "text": [
      "You seem to be using the pipelines sequentially on GPU. In order to maximize efficiency please use a dataset\n"
     ]
    },
    {
     "name": "stdout",
     "output_type": "stream",
     "text": [
      "✓ Wrote query2label.json: 1000 entries\n"
     ]
    }
   ],
   "source": [
    "# Step 1 – Zero-Shot Label Every Validation Query\n",
    "# Purpose: Assign each validation query a semantic label for downstream grouping.\n",
    "\n",
    "import json\n",
    "from transformers import pipeline\n",
    "from tqdm.auto import tqdm\n",
    "\n",
    "DOMAINS = [\n",
    "    # Creative / entertainment\n",
    "    \"music\",\"film_tv\",\"literature\",\"video_games\",\"performing_arts\",\n",
    "    \"culture\",\"fashion\",\"art_architecture\",\n",
    "    # Sport\n",
    "    \"sports\",\"olympics\",\"esports\",\n",
    "    # History / society\n",
    "    \"history\",\"politics\",\"law\",\"military\",\"religion\",\"philosophy\",\n",
    "    # Science & tech\n",
    "    \"biology\",\"medicine\",\"chemistry\",\"physics\",\"astronomy\",\n",
    "    \"mathematics\",\"technology\",\"computer_science\",\"environment\",\n",
    "    \"earth_science\",\"weather_climate\",\n",
    "    # Economy & business\n",
    "    \"economics\",\"finance\",\"business_companies\",\"marketing\",\n",
    "    # Everyday life\n",
    "    \"food_cooking\",\"transportation\",\"education\",\"health_fitness\",\n",
    "    \"nature_wildlife\",\"animals\",\"plants\",\n",
    "    # Fallback\n",
    "    \"misc\"\n",
    "]\n",
    "\n",
    "ZS_MODEL   = \"MoritzLaurer/deberta-v3-large-zeroshot-v2.0\"\n",
    "THRESHOLD  = 0.3\n",
    "BATCH_SIZE = 32\n",
    "\n",
    "# load validation queries\n",
    "val     = json.load(open(\"NQ10k/val_queries-10000-7423.json\"))\n",
    "queries = [ex[\"query\"] for ex in val]\n",
    "\n",
    "pipe = pipeline(\n",
    "    \"zero-shot-classification\",\n",
    "    model=ZS_MODEL,\n",
    "    device=0 if __import__(\"torch\").cuda.is_available() else -1,\n",
    "    batch_size=BATCH_SIZE\n",
    ")\n",
    "\n",
    "query2label = {}\n",
    "for i in tqdm(range(0, len(queries), BATCH_SIZE), desc=\"Z-Shot Labeling\"):\n",
    "    batch = queries[i : i + BATCH_SIZE]\n",
    "    outs  = pipe(batch, DOMAINS, multi_label=True)\n",
    "    for q, out in zip(batch, outs):\n",
    "        lab, score = out[\"labels\"][0], out[\"scores\"][0]\n",
    "        query2label[q] = lab if score >= THRESHOLD else \"misc\"\n",
    "\n",
    "json.dump(query2label, open(\"query2label.json\", \"w\"), indent=2)\n",
    "print(\"✓ Wrote query2label.json:\", len(query2label), \"entries\")"
   ]
  },
  {
   "cell_type": "code",
   "execution_count": null,
   "metadata": {},
   "outputs": [],
   "source": []
  },
  {
   "cell_type": "code",
   "execution_count": null,
   "metadata": {},
   "outputs": [],
   "source": []
  },
  {
   "cell_type": "code",
   "execution_count": 42,
   "metadata": {},
   "outputs": [
    {
     "name": "stdout",
     "output_type": "stream",
     "text": [
      "✓ Wrote neuron_query_flips_labeled.csv: 11800 rows\n"
     ]
    }
   ],
   "source": [
    "# Step 2 – Merge Labels into Flip-Event CSV\n",
    "# Purpose: Annotate each flip event with its query’s semantic label.\n",
    "import pandas as pd\n",
    "import json\n",
    "\n",
    "df = pd.read_csv(\"neuron_query_flips_interesting.csv\")\n",
    "q2l = json.load(open(\"query2label.json\"))\n",
    "\n",
    "df[\"label\"] = df[\"query\"].map(q2l)\n",
    "df = df[df[\"label\"] != \"misc\"]  # drop low-confidence misc\n",
    "df.to_csv(\"neuron_query_flips_labeled.csv\", index=False)\n",
    "print(\"✓ Wrote neuron_query_flips_labeled.csv:\", len(df), \"rows\")"
   ]
  },
  {
   "cell_type": "code",
   "execution_count": 43,
   "metadata": {},
   "outputs": [
    {
     "name": "stdout",
     "output_type": "stream",
     "text": [
      "✓ Wrote neuron_label_stats.csv: 10976 rows\n"
     ]
    }
   ],
   "source": [
    "# Step 3 – Compute Per-Neuron × Label Statistics\n",
    "# Purpose: For each neuron and label, compute:\n",
    "#   • precision = (# flips on that label) / (total flips by that neuron)\n",
    "#   • recall    = (# flips on that label) / (total flips for that label)\n",
    "#   • F1        = 2 * (precision·recall) / (precision+recall)\n",
    "\n",
    "import pandas as pd\n",
    "from collections import defaultdict\n",
    "\n",
    "df = pd.read_csv(\"neuron_query_flips_labeled.csv\")\n",
    "\n",
    "# Count flips per (layer, neuron, label)\n",
    "counts = defaultdict(lambda: defaultdict(int))\n",
    "totals = defaultdict(int)\n",
    "for _, row in df.iterrows():\n",
    "    key = (row.layer, row.neuron)\n",
    "    counts[key][row.label] += 1\n",
    "    totals[key]            += 1\n",
    "\n",
    "records = []\n",
    "# Precompute how many flips each label has overall\n",
    "label_totals = df[\"label\"].value_counts().to_dict()\n",
    "\n",
    "for (L, n), labdict in counts.items():\n",
    "    neuron_total = totals[(L, n)]\n",
    "    for lab, cnt in labdict.items():\n",
    "        precision = cnt / neuron_total\n",
    "        recall    = cnt / label_totals[lab]\n",
    "        if precision + recall > 0:\n",
    "            f1 = 2 * precision * recall / (precision + recall)\n",
    "        else:\n",
    "            f1 = 0.0\n",
    "        records.append({\n",
    "            \"layer\":     L,\n",
    "            \"neuron\":    n,\n",
    "            \"label\":     lab,\n",
    "            \"flips\":     cnt,\n",
    "            \"precision\": precision,\n",
    "            \"recall\":    recall,\n",
    "            \"F1\":        f1\n",
    "        })\n",
    "\n",
    "stats = pd.DataFrame(records)\n",
    "stats.to_csv(\"neuron_label_stats.csv\", index=False)\n",
    "print(\"✓ Wrote neuron_label_stats.csv:\", len(stats), \"rows\")"
   ]
  },
  {
   "cell_type": "code",
   "execution_count": 50,
   "metadata": {},
   "outputs": [
    {
     "data": {
      "image/png": "[encoded data removed]",
      "text/plain": [
       "<Figure size 14000x1040 with 2 Axes>"
      ]
     },
     "metadata": {},
     "output_type": "display_data"
    }
   ],
   "source": [
    "# Step 4 – Heat-Map of Most Label-Specific Neurons\n",
    "# Purpose: Visualize top-N neurons by F1 for each label.\n",
    "import pandas as pd\n",
    "import matplotlib.pyplot as plt\n",
    "import seaborn as sns\n",
    "\n",
    "stats = pd.read_csv(\"neuron_label_stats.csv\")\n",
    "topN  = 100\n",
    "\n",
    "# pick one best label per neuron, then top-N neurons overall\n",
    "best_per_neuron = (\n",
    "    stats.sort_values(\"F1\", ascending=False)\n",
    "         .groupby([\"layer\",\"neuron\"])\n",
    "         .first()\n",
    "         .reset_index()\n",
    ")\n",
    "top_neurons = best_per_neuron.nlargest(topN, \"F1\")[[\"layer\",\"neuron\"]]\n",
    "\n",
    "labels = sorted(stats.label.unique())\n",
    "matrix = []\n",
    "for lab in labels:\n",
    "    row = []\n",
    "    for _, r in top_neurons.iterrows():\n",
    "        rec = stats[\n",
    "            (stats.layer==r.layer)&\n",
    "            (stats.neuron==r.neuron)&\n",
    "            (stats.label==lab)\n",
    "        ]\n",
    "        row.append(rec.F1.values[0] if not rec.empty else 0.0)\n",
    "    matrix.append(row)\n",
    "\n",
    "plt.figure(figsize=(1.4*topN, 0.4*len(labels)))\n",
    "sns.heatmap(\n",
    "    matrix,\n",
    "    xticklabels=[f\"{L}:{n}\" for L,n in top_neurons.values],\n",
    "    yticklabels=labels,\n",
    "    vmin=0, vmax=1,\n",
    "    cbar_kws={\"label\":\"F1\"}\n",
    ")\n",
    "plt.title(\"Neuron ↔ Semantic-Label F1 Heat-Map\")\n",
    "plt.xlabel(\"Neuron (layer:neuron)\")\n",
    "plt.ylabel(\"Semantic Label\")\n",
    "plt.tight_layout()\n",
    "plt.show()"
   ]
  },
  {
   "cell_type": "code",
   "execution_count": 44,
   "metadata": {},
   "outputs": [
    {
     "data": {
      "text/plain": [
       "'\\nExperiment 3 – Domain-Specific Neuron Group Evaluation\\n\\nGoal: Test whether the top-K neurons for each semantic label, acting together, selectively degrade retrieval for that label while leaving others intact.\\nTLDR: Pick the K most label-precise neurons → recompute Top-1 under “mean” & “zero” patches of that group → measure on-domain vs off-domain ΔHits@1.\\nOutcome: domain_group_eval.csv + console output showing for each label & patch the drop in Hits@1 on-domain vs off-domain\\n'"
      ]
     },
     "execution_count": 44,
     "metadata": {},
     "output_type": "execute_result"
    }
   ],
   "source": [
    "\"\"\"\n",
    "Experiment 3 – Domain-Specific Neuron Group Evaluation\n",
    "\n",
    "Goal: Test whether the top-K neurons for each semantic label, acting together, selectively degrade retrieval for that label while leaving others intact.\n",
    "TLDR: Pick the K most label-precise neurons → recompute Top-1 under “mean” & “zero” patches of that group → measure on-domain vs off-domain ΔHits@1.\n",
    "Outcome: domain_group_eval.csv + console output showing for each label & patch the drop in Hits@1 on-domain vs off-domain\n",
    "\"\"\""
   ]
  },
  {
   "cell_type": "code",
   "execution_count": 51,
   "metadata": {},
   "outputs": [
    {
     "name": "stdout",
     "output_type": "stream",
     "text": [
      "✓ Wrote topK_neurons_per_label.csv (452 rows)\n"
     ]
    }
   ],
   "source": [
    "# Step 1 · Select Top-K Neurons per Label\n",
    "# Purpose: For each label, keep the K neurons with highest precision from neuron_label_stats.csv.\n",
    "\n",
    "import pandas as pd\n",
    "\n",
    "K      = 25\n",
    "METRIC = \"precision\"   # could also use \"F1\" or \"recall\"\n",
    "\n",
    "stats = pd.read_csv(\"neuron_label_stats.csv\")\n",
    "# sort by label then descending precision, take top K per label\n",
    "group_sel = (\n",
    "    stats\n",
    "    .sort_values([ \"label\", METRIC ], ascending=[ True, False ])\n",
    "    .groupby(\"label\")\n",
    "    .head(K)\n",
    "    .reset_index(drop=True)\n",
    ")\n",
    "\n",
    "group_sel.to_csv(\"topK_neurons_per_label.csv\", index=False)\n",
    "print(f\"✓ Wrote topK_neurons_per_label.csv ({len(group_sel)} rows)\")"
   ]
  },
  {
   "cell_type": "code",
   "execution_count": 52,
   "metadata": {},
   "outputs": [],
   "source": [
    "# Step 2 · Helper to Recompute Top-1 under Custom Hooks\n",
    "# Purpose: Given a list of hook functions (patches), rerun retrieval to get new Top-1 doc-tokens.\n",
    "\n",
    "import numpy as np\n",
    "import torch\n",
    "\n",
    "BATCH = 256\n",
    "\n",
    "def run_top1(hooks=None):\n",
    "    \"\"\"\n",
    "    Returns an np.int32 array of shape (NQ,) giving the Top-1 doc-token\n",
    "    for each validation query, under the given TransformerLens hooks.\n",
    "    \"\"\"\n",
    "    out = np.empty(len(queries), dtype=np.int32)\n",
    "    with model.hooks(hooks or []):\n",
    "        for i in range(0, len(queries), BATCH):\n",
    "            batch = queries[i:i+BATCH]\n",
    "            ids   = toks(batch)\n",
    "            dec   = torch.zeros((len(ids), 1), dtype=torch.long, device=device)\n",
    "            with torch.inference_mode():\n",
    "                logits = model(ids, dec, return_type=\"logits\")\n",
    "            out[i:i+len(ids)] = logits.argmax(-1)[:,0].cpu().numpy()\n",
    "    return out"
   ]
  },
  {
   "cell_type": "code",
   "execution_count": 57,
   "metadata": {},
   "outputs": [
    {
     "name": "stdout",
     "output_type": "stream",
     "text": [
      ">>> Evaluating each label with K = 25 neurons\n",
      "\n",
      "animals          mean  on-domain Δ= 0.20% | off-domain Δ= 3.80%\n",
      "animals          zero  on-domain Δ= 0.20% | off-domain Δ= 3.60%\n",
      "art_architecture mean  on-domain Δ= 0.00% | off-domain Δ= 4.00%\n",
      "art_architecture zero  on-domain Δ= 0.00% | off-domain Δ= 4.00%\n",
      "astronomy        mean  on-domain Δ= 0.00% | off-domain Δ= 4.00%\n",
      "astronomy        zero  on-domain Δ= 0.00% | off-domain Δ= 4.00%\n",
      "biology          mean  on-domain Δ= 0.00% | off-domain Δ= 4.00%\n",
      "biology          zero  on-domain Δ= 0.00% | off-domain Δ= 4.00%\n",
      "business_companies mean  on-domain Δ= 0.10% | off-domain Δ= 3.80%\n",
      "business_companies zero  on-domain Δ= 0.10% | off-domain Δ= 3.60%\n",
      "chemistry        mean  on-domain Δ= 0.20% | off-domain Δ= 3.60%\n",
      "chemistry        zero  on-domain Δ= 0.20% | off-domain Δ= 3.70%\n",
      "culture          mean  on-domain Δ= 0.20% | off-domain Δ= 4.20%\n",
      "culture          zero  on-domain Δ= 0.20% | off-domain Δ= 5.60%\n",
      "earth_science    mean  on-domain Δ= 0.40% | off-domain Δ= 5.00%\n",
      "earth_science    zero  on-domain Δ= 0.40% | off-domain Δ= 7.40%\n",
      "economics        mean  on-domain Δ= 0.50% | off-domain Δ= 3.90%\n",
      "economics        zero  on-domain Δ= 0.30% | off-domain Δ= 6.30%\n",
      "education        mean  on-domain Δ= 0.20% | off-domain Δ= 3.60%\n",
      "education        zero  on-domain Δ= 0.20% | off-domain Δ= 3.80%\n",
      "environment      mean  on-domain Δ= 0.20% | off-domain Δ= 4.00%\n",
      "environment      zero  on-domain Δ= 0.20% | off-domain Δ= 4.20%\n",
      "fashion          mean  on-domain Δ= 0.00% | off-domain Δ= 4.00%\n",
      "fashion          zero  on-domain Δ= 0.00% | off-domain Δ= 4.00%\n",
      "film_tv          mean  on-domain Δ= 0.70% | off-domain Δ= 3.50%\n",
      "film_tv          zero  on-domain Δ= 0.70% | off-domain Δ= 3.50%\n",
      "finance          mean  on-domain Δ= 0.10% | off-domain Δ= 5.30%\n",
      "finance          zero  on-domain Δ= 0.10% | off-domain Δ= 6.00%\n",
      "food_cooking     mean  on-domain Δ= 0.00% | off-domain Δ= 4.20%\n",
      "food_cooking     zero  on-domain Δ= 0.00% | off-domain Δ= 5.30%\n",
      "health_fitness   mean  on-domain Δ= 0.00% | off-domain Δ= 4.00%\n",
      "health_fitness   zero  on-domain Δ= 0.00% | off-domain Δ= 4.00%\n",
      "history          mean  on-domain Δ= 0.80% | off-domain Δ= 4.00%\n",
      "history          zero  on-domain Δ= 0.80% | off-domain Δ= 4.00%\n",
      "law              mean  on-domain Δ= 0.00% | off-domain Δ= 3.70%\n",
      "law              zero  on-domain Δ= 0.00% | off-domain Δ= 4.00%\n",
      "literature       mean  on-domain Δ= 0.40% | off-domain Δ= 3.40%\n",
      "literature       zero  on-domain Δ= 0.40% | off-domain Δ= 3.50%\n",
      "marketing        mean  on-domain Δ= 0.00% | off-domain Δ= 4.00%\n",
      "marketing        zero  on-domain Δ= 0.00% | off-domain Δ= 4.00%\n",
      "mathematics      mean  on-domain Δ= 0.10% | off-domain Δ= 4.90%\n",
      "mathematics      zero  on-domain Δ= 0.20% | off-domain Δ= 7.00%\n",
      "medicine         mean  on-domain Δ= 0.00% | off-domain Δ= 4.00%\n",
      "medicine         zero  on-domain Δ= 0.00% | off-domain Δ= 4.00%\n",
      "military         mean  on-domain Δ= 0.10% | off-domain Δ= 3.80%\n",
      "military         zero  on-domain Δ= 0.10% | off-domain Δ= 3.90%\n",
      "music            mean  on-domain Δ= 0.30% | off-domain Δ= 3.60%\n",
      "music            zero  on-domain Δ= 0.30% | off-domain Δ= 3.70%\n",
      "nature_wildlife  mean  on-domain Δ= 0.00% | off-domain Δ= 4.00%\n",
      "nature_wildlife  zero  on-domain Δ= 0.00% | off-domain Δ= 4.00%\n",
      "olympics         mean  on-domain Δ= 0.00% | off-domain Δ= 4.00%\n",
      "olympics         zero  on-domain Δ= 0.00% | off-domain Δ= 4.00%\n",
      "performing_arts  mean  on-domain Δ= 0.20% | off-domain Δ= 4.10%\n",
      "performing_arts  zero  on-domain Δ= 0.20% | off-domain Δ= 7.70%\n",
      "philosophy       mean  on-domain Δ= 0.20% | off-domain Δ= 4.30%\n",
      "philosophy       zero  on-domain Δ= 0.20% | off-domain Δ= 6.20%\n",
      "physics          mean  on-domain Δ= 0.10% | off-domain Δ= 3.90%\n",
      "physics          zero  on-domain Δ= 0.10% | off-domain Δ= 3.90%\n",
      "plants           mean  on-domain Δ= 0.10% | off-domain Δ= 4.10%\n",
      "plants           zero  on-domain Δ= 0.10% | off-domain Δ= 3.80%\n",
      "politics         mean  on-domain Δ= 0.40% | off-domain Δ= 3.30%\n",
      "politics         zero  on-domain Δ= 0.50% | off-domain Δ= 3.10%\n",
      "religion         mean  on-domain Δ= 0.20% | off-domain Δ= 4.10%\n",
      "religion         zero  on-domain Δ= 0.20% | off-domain Δ= 4.20%\n",
      "sports           mean  on-domain Δ= 0.40% | off-domain Δ= 3.40%\n",
      "sports           zero  on-domain Δ= 0.40% | off-domain Δ= 3.70%\n",
      "technology       mean  on-domain Δ= 0.30% | off-domain Δ= 4.00%\n",
      "technology       zero  on-domain Δ= 0.40% | off-domain Δ= 4.20%\n",
      "transportation   mean  on-domain Δ= 0.30% | off-domain Δ= 4.60%\n",
      "transportation   zero  on-domain Δ= 0.30% | off-domain Δ= 6.30%\n",
      "video_games      mean  on-domain Δ= 0.10% | off-domain Δ= 4.10%\n",
      "video_games      zero  on-domain Δ= 0.10% | off-domain Δ= 5.50%\n",
      "weather_climate  mean  on-domain Δ= 0.00% | off-domain Δ= 4.00%\n",
      "weather_climate  zero  on-domain Δ= 0.00% | off-domain Δ= 4.00%\n",
      "\n",
      "✓ Wrote domain_group_eval.csv (74 rows)\n"
     ]
    }
   ],
   "source": [
    "# Step 3 · Group-Patch Evaluation (mean & zero)\n",
    "# Purpose: For each label, jointly patch its top-K neurons and measure:\n",
    "#   drop_domain  = fraction of that label’s queries whose Top-1 changed\n",
    "#   drop_other   = fraction of *other* labels’ queries whose Top-1 changed\n",
    "\n",
    "import json\n",
    "import pandas as pd\n",
    "\n",
    "BASE_TOP = torch.load(\"baseline_top.pt\").numpy()\n",
    "means    = torch.load(\"stage3_means.pt\")  # mean activations\n",
    "q2l      = json.load(open(\"query2label.json\"))\n",
    "\n",
    "# original label per validation query\n",
    "orig_labels = np.array([q2l[q] for q in queries])\n",
    "labels      = sorted(set(orig_labels) - {\"misc\"})\n",
    "\n",
    "def build_hooks(rows, patch=\"mean\"):\n",
    "    \"\"\"\n",
    "    rows: DataFrame with columns [layer, neuron]\n",
    "    patch: \"mean\" or \"zero\"\n",
    "    \"\"\"\n",
    "    hooks = []\n",
    "    for L, n in rows[[\"layer\",\"neuron\"]].values:\n",
    "        key = f\"decoder.{L}.hook_mlp_out\"\n",
    "        val = 0.0 if patch==\"zero\" else float(means[L][n])\n",
    "        def fn(act, *, hook, idx=n, v=val):\n",
    "            act[..., idx] = v\n",
    "            return act\n",
    "        hooks.append((key, fn))\n",
    "    return hooks\n",
    "\n",
    "results = []\n",
    "print(f\">>> Evaluating each label with K = {K} neurons\\n\")\n",
    "for lab in labels:\n",
    "    sel = group_sel[group_sel.label==lab]\n",
    "    mask_lab = (orig_labels == lab)\n",
    "    for patch in (\"mean\", \"zero\"):\n",
    "        hooks = build_hooks(sel, patch)\n",
    "        pred  = run_top1(hooks)\n",
    "        drop_dom   = ((pred != BASE_TOP) &  mask_lab).mean()\n",
    "        drop_other = ((pred != BASE_TOP) & ~mask_lab).mean()\n",
    "        results.append({\n",
    "            \"label\":       lab,\n",
    "            \"patch\":       patch,\n",
    "            \"k\":           K,\n",
    "            \"drop_domain\": round(float(drop_dom), 4),\n",
    "            \"drop_other\":  round(float(drop_other),4)\n",
    "        })\n",
    "        print(f\"{lab:<16} {patch:<4}  on-domain Δ={drop_dom:6.2%} | off-domain Δ={drop_other:6.2%}\")\n",
    "\n",
    "pd.DataFrame(results).to_csv(\"domain_group_eval.csv\", index=False)\n",
    "print(f\"\\n✓ Wrote domain_group_eval.csv ({len(results)} rows)\")"
   ]
  },
  {
   "cell_type": "code",
   "execution_count": null,
   "metadata": {},
   "outputs": [],
   "source": [
    "\"\"\"\n",
    "Experiment 4 – Neuron→Topic Mapping & Topic‐Group Causal Test\n",
    "\n",
    "Goal: Flip the perspective from “which queries does each neuron flip?” to “what topic does each neuron encode?” and then test whether groups of neurons grouped by their inferred topic label act as domain‐gated retrieval switches.\n",
    "TLDR:\n",
    "\t1.\tCollect for each neuron the bag of all queries whose Top-1 it flips.\n",
    "\t2.\tZero-shot label each bag to assign a dominant topic to each neuron.\n",
    "\t3.\tGroup-patch the top-K neurons per inferred topic label (mean & zero) → measure on-domain vs off-domain ΔHits@1.\n",
    "Outcome:\n",
    "\n",
    "\t•\tbags_per_neuron.json (neurons → lists of queries)\n",
    "\t•\tneuron2label.json (neuron → inferred topic)\n",
    "\t•\tdomain_group_eval_by_topic.csv (+ console printout showing ΔHits@1 for each topic group)\n",
    "\"\"\""
   ]
  },
  {
   "cell_type": "code",
   "execution_count": 55,
   "metadata": {},
   "outputs": [
    {
     "name": "stdout",
     "output_type": "stream",
     "text": [
      "✓ Wrote bags_per_neuron.json   neurons with ≥1 flip: 4773\n"
     ]
    }
   ],
   "source": [
    "# Step 1 · Build query bags per neuron\n",
    "# Purpose: For each neuron, collect all validation queries whose Top-1 prediction flips\n",
    "import json\n",
    "import pandas as pd\n",
    "from collections import defaultdict\n",
    "\n",
    "df = pd.read_csv(\"neuron_query_flips_interesting.csv\")  # from Experiment 1\n",
    "bags = defaultdict(list)\n",
    "for _, row in df.iterrows():\n",
    "    if row.drop_mean or row.drop_zero:\n",
    "        key = f\"{row.layer},{row.neuron}\"\n",
    "        bags[key].append(row.query)\n",
    "\n",
    "json.dump(bags, open(\"bags_per_neuron.json\", \"w\"), indent=2)\n",
    "print(f\"✓ Wrote bags_per_neuron.json   neurons with ≥1 flip: {len(bags)}\")"
   ]
  },
  {
   "cell_type": "code",
   "execution_count": 56,
   "metadata": {},
   "outputs": [
    {
     "name": "stderr",
     "output_type": "stream",
     "text": [
      "Device set to use cuda:0\n"
     ]
    },
    {
     "data": {
      "application/vnd.jupyter.widget-view+json": {
       "model_id": "fe05bcc4b89043aebf1dca3b8a0185e1",
       "version_major": 2,
       "version_minor": 0
      },
      "text/plain": [
       "Labelling neurons:   0%|          | 0/4773 [00:00<?, ?it/s]"
      ]
     },
     "metadata": {},
     "output_type": "display_data"
    },
    {
     "name": "stdout",
     "output_type": "stream",
     "text": [
      "✓ Wrote neuron2label.json   unique labels: ['animals', 'chemistry', 'earth_science', 'economics', 'education', 'film_tv', 'finance', 'geography', 'history', 'law', 'literature', 'mathematics', 'misc', 'music', 'performing_arts', 'philosophy', 'politics', 'religion', 'sports', 'technology', 'transportation']\n"
     ]
    }
   ],
   "source": [
    "# Step 2 · Zero‐shot label each neuron’s bag (majority vote)\n",
    "# Purpose: Assign each neuron the semantic label most represented among the queries it flips.\n",
    "import json\n",
    "from tqdm.auto import tqdm\n",
    "from transformers import pipeline\n",
    "\n",
    "DOMAINS = [\n",
    "    \"music\",\"film_tv\",\"literature\",\"video_games\",\"performing_arts\",\n",
    "    \"sports\",\"olympics\",\"esports\",\n",
    "    \"history\",\"politics\",\"law\",\"military\",\"religion\",\"philosophy\",\n",
    "    \"biology\",\"medicine\",\"chemistry\",\"physics\",\"astronomy\",\n",
    "    \"mathematics\",\"technology\",\"computer_science\",\n",
    "    \"geography\",\"earth_science\",\"environment\",\"animals\",\n",
    "    \"plants\",\"weather_climate\",\n",
    "    \"economics\",\"finance\",\"business_companies\",\"marketing\",\n",
    "    \"food_cooking\",\"transportation\",\"education\",\"fashion\",\n",
    "    \"health_fitness\",\"culture\",\"misc\"\n",
    "]\n",
    "ZS_MODEL = \"MoritzLaurer/deberta-v3-large-zeroshot-v2.0\"\n",
    "THR      = 0.3\n",
    "BATCH    = 64\n",
    "\n",
    "bags = json.load(open(\"bags_per_neuron.json\"))\n",
    "pipe = pipeline(\"zero-shot-classification\", model=ZS_MODEL,\n",
    "                device=0 if torch.cuda.is_available() else -1,\n",
    "                batch_size=BATCH)\n",
    "\n",
    "neuron2label = {}\n",
    "for neuron_key, queries_list in tqdm(bags.items(), desc=\"Labelling neurons\"):\n",
    "    votes = []\n",
    "    for i in range(0, len(queries_list), BATCH):\n",
    "        chunk = queries_list[i:i+BATCH]\n",
    "        outs  = pipe(chunk, DOMAINS, multi_label=True)\n",
    "        for out in outs:\n",
    "            lab, sc = out[\"labels\"][0], out[\"scores\"][0]\n",
    "            if sc >= THR:\n",
    "                votes.append(lab)\n",
    "    neuron2label[neuron_key] = max(set(votes), key=votes.count) if votes else \"misc\"\n",
    "\n",
    "json.dump(neuron2label, open(\"neuron2label.json\", \"w\"), indent=2)\n",
    "print(\"✓ Wrote neuron2label.json   unique labels:\", sorted(set(neuron2label.values())))"
   ]
  },
  {
   "cell_type": "code",
   "execution_count": 59,
   "metadata": {},
   "outputs": [
    {
     "name": "stdout",
     "output_type": "stream",
     "text": [
      "religion         mean  topic Δ= 0.20% | other Δ= 4.20%\n",
      "religion         zero  topic Δ= 0.20% | other Δ= 4.30%\n",
      "animals          mean  topic Δ= 0.20% | other Δ= 3.50%\n",
      "animals          zero  topic Δ= 0.20% | other Δ= 4.00%\n",
      "law              mean  topic Δ= 0.00% | other Δ= 4.00%\n",
      "law              zero  topic Δ= 0.00% | other Δ= 4.10%\n",
      "geography        mean  topic Δ= 0.00% | other Δ= 4.30%\n",
      "geography        zero  topic Δ= 0.00% | other Δ= 4.50%\n",
      "technology       mean  topic Δ= 0.30% | other Δ= 3.60%\n",
      "technology       zero  topic Δ= 0.30% | other Δ= 3.90%\n",
      "music            mean  topic Δ= 0.30% | other Δ= 3.80%\n",
      "music            zero  topic Δ= 0.30% | other Δ= 3.70%\n",
      "sports           mean  topic Δ= 0.40% | other Δ= 3.50%\n",
      "sports           zero  topic Δ= 0.40% | other Δ= 3.50%\n",
      "film_tv          mean  topic Δ= 0.70% | other Δ= 3.90%\n",
      "film_tv          zero  topic Δ= 0.70% | other Δ= 3.60%\n",
      "politics         mean  topic Δ= 0.40% | other Δ= 3.50%\n",
      "politics         zero  topic Δ= 0.40% | other Δ= 3.60%\n",
      "history          mean  topic Δ= 0.70% | other Δ= 4.10%\n",
      "history          zero  topic Δ= 0.70% | other Δ= 3.50%\n",
      "literature       mean  topic Δ= 0.40% | other Δ= 3.60%\n",
      "literature       zero  topic Δ= 0.40% | other Δ= 3.50%\n",
      "chemistry        mean  topic Δ= 0.10% | other Δ= 3.70%\n",
      "chemistry        zero  topic Δ= 0.10% | other Δ= 3.90%\n",
      "education        mean  topic Δ= 0.20% | other Δ= 3.90%\n",
      "education        zero  topic Δ= 0.20% | other Δ= 4.10%\n",
      "finance          mean  topic Δ= 0.00% | other Δ= 3.90%\n",
      "finance          zero  topic Δ= 0.00% | other Δ= 3.60%\n",
      "economics        mean  topic Δ= 0.20% | other Δ= 3.60%\n",
      "economics        zero  topic Δ= 0.20% | other Δ= 3.60%\n",
      "transportation   mean  topic Δ= 0.10% | other Δ= 4.10%\n",
      "transportation   zero  topic Δ= 0.10% | other Δ= 4.20%\n",
      "performing_arts  mean  topic Δ= 0.20% | other Δ= 3.80%\n",
      "performing_arts  zero  topic Δ= 0.20% | other Δ= 5.40%\n",
      "earth_science    mean  topic Δ= 0.20% | other Δ= 4.00%\n",
      "earth_science    zero  topic Δ= 0.20% | other Δ= 3.90%\n",
      "mathematics      mean  topic Δ= 0.10% | other Δ= 3.70%\n",
      "mathematics      zero  topic Δ= 0.10% | other Δ= 3.70%\n",
      "philosophy       mean  topic Δ= 0.10% | other Δ= 3.90%\n",
      "philosophy       zero  topic Δ= 0.10% | other Δ= 4.20%\n",
      "✓ Wrote domain_group_eval_by_topic.csv (40 rows)\n"
     ]
    }
   ],
   "source": [
    "# Step 3 · Topic‐Group Evaluation (mean & zero)\n",
    "# Purpose: For each inferred topic, jointly patch its top-K neurons and measure ΔHits@1.\n",
    "import json\n",
    "import numpy as np\n",
    "import pandas as pd\n",
    "import torch\n",
    "\n",
    "# load artifacts\n",
    "BASE_TOP = torch.load(\"baseline_top.pt\").numpy()\n",
    "means    = torch.load(\"stage3_means.pt\")\n",
    "neuron2label = json.load(open(\"neuron2label.json\"))\n",
    "\n",
    "# invert mapping → topic → list of (layer,neuron)\n",
    "topic_groups = {}\n",
    "for k, lab in neuron2label.items():\n",
    "    topic_groups.setdefault(lab, []).append(tuple(map(int, k.split(\",\"))))\n",
    "\n",
    "K = 25\n",
    "labels = [lab for lab in topic_groups if lab != \"misc\"]\n",
    "results = []\n",
    "\n",
    "def build_hooks(neuron_list, patch=\"mean\"):\n",
    "    hooks = []\n",
    "    for L, n in neuron_list[:K]:\n",
    "        key = f\"decoder.{L}.hook_mlp_out\"\n",
    "        val = 0.0 if patch==\"zero\" else float(means[L][n])\n",
    "        def fn(act, *, hook, idx=n, v=val):\n",
    "            act[..., idx] = v\n",
    "            return act\n",
    "        hooks.append((key, fn))\n",
    "    return hooks\n",
    "\n",
    "for lab in labels:\n",
    "    group = topic_groups[lab]\n",
    "    for patch in (\"mean\", \"zero\"):\n",
    "        hooks = build_hooks(group, patch)\n",
    "        preds = run_top1(hooks)   # reuse helper from Exp3\n",
    "        drop_dom   = ((preds != BASE_TOP) & \\\n",
    "                      np.isin([q2l[q] for q in queries], lab)).mean()\n",
    "        drop_other = ((preds != BASE_TOP) & \\\n",
    "                      ~np.isin([q2l[q] for q in queries], lab)).mean()\n",
    "        results.append({\n",
    "            \"topic\":      lab,\n",
    "            \"patch\":      patch,\n",
    "            \"k\":          min(K, len(group)),\n",
    "            \"drop_topic\": round(drop_dom,4),\n",
    "            \"drop_other\": round(drop_other,4)\n",
    "        })\n",
    "        print(f\"{lab:<16} {patch:<4}  topic Δ={drop_dom:6.2%} | other Δ={drop_other:6.2%}\")\n",
    "\n",
    "pd.DataFrame(results).to_csv(\"domain_group_eval_by_topic.csv\", index=False)\n",
    "print(f\"✓ Wrote domain_group_eval_by_topic.csv ({len(results)} rows)\")"
   ]
  },
  {
   "cell_type": "code",
   "execution_count": null,
   "metadata": {},
   "outputs": [],
   "source": []
  }
 ],
 "metadata": {
  "accelerator": "GPU",
  "colab": {
   "gpuType": "T4",
   "machine_shape": "hm",
   "provenance": []
  },
  "kernelspec": {
   "display_name": "Python 3 (ipykernel)",
   "language": "python",
   "name": "python3"
  },
  "language_info": {
   "codemirror_mode": {
    "name": "ipython",
    "version": 3
   },
   "file_extension": ".py",
   "mimetype": "text/x-python",
   "name": "python",
   "nbconvert_exporter": "python",
   "pygments_lexer": "ipython3",
   "version": "3.10.18"
  }
 },
 "nbformat": 4,
 "nbformat_minor": 4
}
